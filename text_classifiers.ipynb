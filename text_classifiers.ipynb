{
 "cells": [
  {
   "cell_type": "code",
   "execution_count": 2,
   "id": "2703ccd5",
   "metadata": {},
   "outputs": [
    {
     "name": "stderr",
     "output_type": "stream",
     "text": [
      "/opt/anaconda3/lib/python3.7/site-packages/tensorflow/python/util/nest.py:1286: DeprecationWarning: Using or importing the ABCs from 'collections' instead of from 'collections.abc' is deprecated, and in 3.8 it will stop working\n",
      "  _pywrap_tensorflow.RegisterType(\"Mapping\", _collections.Mapping)\n",
      "/opt/anaconda3/lib/python3.7/site-packages/tensorflow/python/util/nest.py:1287: DeprecationWarning: Using or importing the ABCs from 'collections' instead of from 'collections.abc' is deprecated, and in 3.8 it will stop working\n",
      "  _pywrap_tensorflow.RegisterType(\"Sequence\", _collections.Sequence)\n",
      "/opt/anaconda3/lib/python3.7/site-packages/tensorflow/python/framework/dtypes.py:516: FutureWarning: Passing (type, 1) or '1type' as a synonym of type is deprecated; in a future version of numpy, it will be understood as (type, (1,)) / '(1,)type'.\n",
      "  _np_qint8 = np.dtype([(\"qint8\", np.int8, 1)])\n",
      "/opt/anaconda3/lib/python3.7/site-packages/tensorflow/python/framework/dtypes.py:517: FutureWarning: Passing (type, 1) or '1type' as a synonym of type is deprecated; in a future version of numpy, it will be understood as (type, (1,)) / '(1,)type'.\n",
      "  _np_quint8 = np.dtype([(\"quint8\", np.uint8, 1)])\n",
      "/opt/anaconda3/lib/python3.7/site-packages/tensorflow/python/framework/dtypes.py:518: FutureWarning: Passing (type, 1) or '1type' as a synonym of type is deprecated; in a future version of numpy, it will be understood as (type, (1,)) / '(1,)type'.\n",
      "  _np_qint16 = np.dtype([(\"qint16\", np.int16, 1)])\n",
      "/opt/anaconda3/lib/python3.7/site-packages/tensorflow/python/framework/dtypes.py:519: FutureWarning: Passing (type, 1) or '1type' as a synonym of type is deprecated; in a future version of numpy, it will be understood as (type, (1,)) / '(1,)type'.\n",
      "  _np_quint16 = np.dtype([(\"quint16\", np.uint16, 1)])\n",
      "/opt/anaconda3/lib/python3.7/site-packages/tensorflow/python/framework/dtypes.py:520: FutureWarning: Passing (type, 1) or '1type' as a synonym of type is deprecated; in a future version of numpy, it will be understood as (type, (1,)) / '(1,)type'.\n",
      "  _np_qint32 = np.dtype([(\"qint32\", np.int32, 1)])\n",
      "/opt/anaconda3/lib/python3.7/site-packages/tensorflow/python/framework/dtypes.py:525: FutureWarning: Passing (type, 1) or '1type' as a synonym of type is deprecated; in a future version of numpy, it will be understood as (type, (1,)) / '(1,)type'.\n",
      "  np_resource = np.dtype([(\"resource\", np.ubyte, 1)])\n",
      "/opt/anaconda3/lib/python3.7/site-packages/tensorflow/python/framework/dtypes.py:593: DeprecationWarning: `np.object` is a deprecated alias for the builtin `object`. To silence this warning, use `object` by itself. Doing this will not modify any behavior and is safe. \n",
      "Deprecated in NumPy 1.20; for more details and guidance: https://numpy.org/devdocs/release/1.20.0-notes.html#deprecations\n",
      "  np.object,\n",
      "/opt/anaconda3/lib/python3.7/site-packages/tensorflow/python/framework/dtypes.py:601: DeprecationWarning: `np.bool` is a deprecated alias for the builtin `bool`. To silence this warning, use `bool` by itself. Doing this will not modify any behavior and is safe. If you specifically wanted the numpy scalar type, use `np.bool_` here.\n",
      "Deprecated in NumPy 1.20; for more details and guidance: https://numpy.org/devdocs/release/1.20.0-notes.html#deprecations\n",
      "  np.bool,\n",
      "/opt/anaconda3/lib/python3.7/site-packages/tensorflow/python/framework/dtypes.py:635: DeprecationWarning: `np.object` is a deprecated alias for the builtin `object`. To silence this warning, use `object` by itself. Doing this will not modify any behavior and is safe. \n",
      "Deprecated in NumPy 1.20; for more details and guidance: https://numpy.org/devdocs/release/1.20.0-notes.html#deprecations\n",
      "  np.object,\n",
      "/opt/anaconda3/lib/python3.7/site-packages/tensorflow/python/framework/dtypes.py:645: DeprecationWarning: `np.bool` is a deprecated alias for the builtin `bool`. To silence this warning, use `bool` by itself. Doing this will not modify any behavior and is safe. If you specifically wanted the numpy scalar type, use `np.bool_` here.\n",
      "Deprecated in NumPy 1.20; for more details and guidance: https://numpy.org/devdocs/release/1.20.0-notes.html#deprecations\n",
      "  np.bool,\n",
      "/opt/anaconda3/lib/python3.7/site-packages/tensorflow/python/framework/tensor_util.py:106: DeprecationWarning: `np.object` is a deprecated alias for the builtin `object`. To silence this warning, use `object` by itself. Doing this will not modify any behavior and is safe. \n",
      "Deprecated in NumPy 1.20; for more details and guidance: https://numpy.org/devdocs/release/1.20.0-notes.html#deprecations\n",
      "  np.object:\n",
      "/opt/anaconda3/lib/python3.7/site-packages/tensorflow/python/framework/tensor_util.py:108: DeprecationWarning: `np.bool` is a deprecated alias for the builtin `bool`. To silence this warning, use `bool` by itself. Doing this will not modify any behavior and is safe. If you specifically wanted the numpy scalar type, use `np.bool_` here.\n",
      "Deprecated in NumPy 1.20; for more details and guidance: https://numpy.org/devdocs/release/1.20.0-notes.html#deprecations\n",
      "  np.bool:\n",
      "/opt/anaconda3/lib/python3.7/site-packages/tensorflow/python/training/tracking/object_identity.py:61: DeprecationWarning: Using or importing the ABCs from 'collections' instead of from 'collections.abc' is deprecated, and in 3.8 it will stop working\n",
      "  class ObjectIdentityDictionary(collections.MutableMapping):\n",
      "/opt/anaconda3/lib/python3.7/site-packages/tensorflow/python/training/tracking/object_identity.py:112: DeprecationWarning: Using or importing the ABCs from 'collections' instead of from 'collections.abc' is deprecated, and in 3.8 it will stop working\n",
      "  class ObjectIdentitySet(collections.MutableSet):\n",
      "/opt/anaconda3/lib/python3.7/site-packages/tensorflow/python/training/tracking/data_structures.py:374: DeprecationWarning: Using or importing the ABCs from 'collections' instead of from 'collections.abc' is deprecated, and in 3.8 it will stop working\n",
      "  class _ListWrapper(List, collections.MutableSequence,\n",
      "/opt/anaconda3/lib/python3.7/site-packages/h5py/__init__.py:46: DeprecationWarning: `np.typeDict` is a deprecated alias for `np.sctypeDict`.\n",
      "  from ._conv import register_converters as _register_converters\n",
      "/opt/anaconda3/lib/python3.7/site-packages/tensorboard/compat/tensorflow_stub/dtypes.py:541: FutureWarning: Passing (type, 1) or '1type' as a synonym of type is deprecated; in a future version of numpy, it will be understood as (type, (1,)) / '(1,)type'.\n",
      "  _np_qint8 = np.dtype([(\"qint8\", np.int8, 1)])\n",
      "/opt/anaconda3/lib/python3.7/site-packages/tensorboard/compat/tensorflow_stub/dtypes.py:542: FutureWarning: Passing (type, 1) or '1type' as a synonym of type is deprecated; in a future version of numpy, it will be understood as (type, (1,)) / '(1,)type'.\n",
      "  _np_quint8 = np.dtype([(\"quint8\", np.uint8, 1)])\n",
      "/opt/anaconda3/lib/python3.7/site-packages/tensorboard/compat/tensorflow_stub/dtypes.py:543: FutureWarning: Passing (type, 1) or '1type' as a synonym of type is deprecated; in a future version of numpy, it will be understood as (type, (1,)) / '(1,)type'.\n",
      "  _np_qint16 = np.dtype([(\"qint16\", np.int16, 1)])\n",
      "/opt/anaconda3/lib/python3.7/site-packages/tensorboard/compat/tensorflow_stub/dtypes.py:544: FutureWarning: Passing (type, 1) or '1type' as a synonym of type is deprecated; in a future version of numpy, it will be understood as (type, (1,)) / '(1,)type'.\n",
      "  _np_quint16 = np.dtype([(\"quint16\", np.uint16, 1)])\n",
      "/opt/anaconda3/lib/python3.7/site-packages/tensorboard/compat/tensorflow_stub/dtypes.py:545: FutureWarning: Passing (type, 1) or '1type' as a synonym of type is deprecated; in a future version of numpy, it will be understood as (type, (1,)) / '(1,)type'.\n",
      "  _np_qint32 = np.dtype([(\"qint32\", np.int32, 1)])\n",
      "/opt/anaconda3/lib/python3.7/site-packages/tensorboard/compat/tensorflow_stub/dtypes.py:550: FutureWarning: Passing (type, 1) or '1type' as a synonym of type is deprecated; in a future version of numpy, it will be understood as (type, (1,)) / '(1,)type'.\n",
      "  np_resource = np.dtype([(\"resource\", np.ubyte, 1)])\n",
      "/opt/anaconda3/lib/python3.7/site-packages/tensorboard/compat/tensorflow_stub/dtypes.py:568: DeprecationWarning: `np.object` is a deprecated alias for the builtin `object`. To silence this warning, use `object` by itself. Doing this will not modify any behavior and is safe. \n",
      "Deprecated in NumPy 1.20; for more details and guidance: https://numpy.org/devdocs/release/1.20.0-notes.html#deprecations\n",
      "  (np.object, string),\n",
      "/opt/anaconda3/lib/python3.7/site-packages/tensorboard/compat/tensorflow_stub/dtypes.py:569: DeprecationWarning: `np.bool` is a deprecated alias for the builtin `bool`. To silence this warning, use `bool` by itself. Doing this will not modify any behavior and is safe. If you specifically wanted the numpy scalar type, use `np.bool_` here.\n",
      "Deprecated in NumPy 1.20; for more details and guidance: https://numpy.org/devdocs/release/1.20.0-notes.html#deprecations\n",
      "  (np.bool, bool),\n",
      "/opt/anaconda3/lib/python3.7/site-packages/tensorboard/compat/tensorflow_stub/dtypes.py:593: DeprecationWarning: `np.object` is a deprecated alias for the builtin `object`. To silence this warning, use `object` by itself. Doing this will not modify any behavior and is safe. \n",
      "Deprecated in NumPy 1.20; for more details and guidance: https://numpy.org/devdocs/release/1.20.0-notes.html#deprecations\n",
      "  types_pb2.DT_STRING: np.object,\n",
      "/opt/anaconda3/lib/python3.7/site-packages/tensorboard/compat/tensorflow_stub/dtypes.py:597: DeprecationWarning: `np.bool` is a deprecated alias for the builtin `bool`. To silence this warning, use `bool` by itself. Doing this will not modify any behavior and is safe. If you specifically wanted the numpy scalar type, use `np.bool_` here.\n",
      "Deprecated in NumPy 1.20; for more details and guidance: https://numpy.org/devdocs/release/1.20.0-notes.html#deprecations\n",
      "  types_pb2.DT_BOOL: np.bool,\n",
      "/opt/anaconda3/lib/python3.7/site-packages/tensorboard/compat/tensorflow_stub/dtypes.py:614: DeprecationWarning: `np.object` is a deprecated alias for the builtin `object`. To silence this warning, use `object` by itself. Doing this will not modify any behavior and is safe. \n",
      "Deprecated in NumPy 1.20; for more details and guidance: https://numpy.org/devdocs/release/1.20.0-notes.html#deprecations\n",
      "  types_pb2.DT_STRING_REF: np.object,\n",
      "/opt/anaconda3/lib/python3.7/site-packages/tensorboard/compat/tensorflow_stub/dtypes.py:619: DeprecationWarning: `np.bool` is a deprecated alias for the builtin `bool`. To silence this warning, use `bool` by itself. Doing this will not modify any behavior and is safe. If you specifically wanted the numpy scalar type, use `np.bool_` here.\n",
      "Deprecated in NumPy 1.20; for more details and guidance: https://numpy.org/devdocs/release/1.20.0-notes.html#deprecations\n",
      "  types_pb2.DT_BOOL_REF: np.bool,\n",
      "/opt/anaconda3/lib/python3.7/site-packages/tensorboard/util/tensor_util.py:100: DeprecationWarning: `np.object` is a deprecated alias for the builtin `object`. To silence this warning, use `object` by itself. Doing this will not modify any behavior and is safe. \n",
      "Deprecated in NumPy 1.20; for more details and guidance: https://numpy.org/devdocs/release/1.20.0-notes.html#deprecations\n",
      "  np.object: SlowAppendObjectArrayToTensorProto,\n",
      "/opt/anaconda3/lib/python3.7/site-packages/tensorboard/util/tensor_util.py:101: DeprecationWarning: `np.bool` is a deprecated alias for the builtin `bool`. To silence this warning, use `bool` by itself. Doing this will not modify any behavior and is safe. If you specifically wanted the numpy scalar type, use `np.bool_` here.\n",
      "Deprecated in NumPy 1.20; for more details and guidance: https://numpy.org/devdocs/release/1.20.0-notes.html#deprecations\n",
      "  np.bool: SlowAppendBoolArrayToTensorProto,\n",
      "WARNING:root:Limited tf.compat.v2.summary API due to missing TensorBoard installation.\n"
     ]
    }
   ],
   "source": [
    "import os\n",
    "import pandas as pd\n",
    "import re\n",
    "import pyLDAvis.sklearn\n",
    "from sklearn.feature_extraction.text import CountVectorizer, TfidfVectorizer\n",
    "from sklearn.decomposition import LatentDirichletAllocation, NMF\n",
    "from sklearn.model_selection import train_test_split\n",
    "\n",
    "import spacy"
   ]
  },
  {
   "cell_type": "code",
   "execution_count": 4,
   "id": "4ecba236",
   "metadata": {},
   "outputs": [],
   "source": [
    "os.chdir('/Users/Ethan/Downloads/project/Modeling-Text/Train')"
   ]
  },
  {
   "cell_type": "code",
   "execution_count": 5,
   "id": "1429fa45",
   "metadata": {},
   "outputs": [
    {
     "data": {
      "text/plain": [
       "'full_clean_data.csv'"
      ]
     },
     "execution_count": 5,
     "metadata": {},
     "output_type": "execute_result"
    }
   ],
   "source": [
    "data = os.listdir()[1]\n",
    "data"
   ]
  },
  {
   "cell_type": "code",
   "execution_count": 6,
   "id": "8724e154",
   "metadata": {},
   "outputs": [
    {
     "name": "stdout",
     "output_type": "stream",
     "text": [
      "Generated df shape where target values are not null:  (8051, 15)\n",
      "------------------------------\n",
      "       username                                              tweet  \\\n",
      "0    obese_dyke  self diagnosed severe depression add insomnia ...   \n",
      "1    lidsrodney        diagnosed bipolar getting harassed admin bi   \n",
      "2     xandraris  oh fuck diagnosed bipolar even crazier thought...   \n",
      "3  djtonythrill       dont care people bipolar til child diagnosed   \n",
      "4    blt_rt_bot  ellletstalk two yrs diagnosed w bipolar manic ...   \n",
      "\n",
      "  username_of_retweeter                                          hashtag  \\\n",
      "0            __xlovebri      [{'text': 'Empire', 'indices': [131, 138]}]   \n",
      "1            __xlovebri      [{'text': 'Empire', 'indices': [131, 138]}]   \n",
      "2            __xlovebri      [{'text': 'Empire', 'indices': [131, 138]}]   \n",
      "3            __xlovebri      [{'text': 'Empire', 'indices': [131, 138]}]   \n",
      "4            moyetsandy  [{'text': 'bellletstalk', 'indices': [16, 29]}]   \n",
      "\n",
      "  tweet created  number of followers  # following  \\\n",
      "0    2017-02-01                 54.0         18.0   \n",
      "1    2017-01-31               5012.0       4678.0   \n",
      "2    2017-01-31                228.0        779.0   \n",
      "3    2017-01-31                210.0        550.0   \n",
      "4    2017-01-31                218.0          0.0   \n",
      "\n",
      "                                               label  Polarity Polarity_cat  \\\n",
      "0                                 ['diagnosed with']       0.0      Neutral   \n",
      "1       ['diagnosed with', 'diagnosed with bipolar']       0.0      Neutral   \n",
      "2  ['got diagnosed', 'diagnosed with', 'diagnosed...      -0.3     Negative   \n",
      "3                                 ['diagnosed with']       0.0      Neutral   \n",
      "4                                 ['diagnosed with']      -0.4     Negative   \n",
      "\n",
      "   len_tweet  word_count_tweet  \\\n",
      "0      117.0              14.0   \n",
      "1       43.0               6.0   \n",
      "2       66.0              11.0   \n",
      "3       44.0               7.0   \n",
      "4       84.0              13.0   \n",
      "\n",
      "                                              label2     label3  \n",
      "0                                   'diagnosed with'  diagnosed  \n",
      "1         'diagnosed with', 'diagnosed with bipolar'  diagnosed  \n",
      "2  'got diagnosed', 'diagnosed with', 'diagnosed ...  diagnosed  \n",
      "3                                   'diagnosed with'  diagnosed  \n",
      "4                                   'diagnosed with'  diagnosed  \n"
     ]
    }
   ],
   "source": [
    "df1 = pd.read_csv(data)\n",
    "\n",
    "def generate_df(df, target):\n",
    "    full_df = df[target.notnull()]\n",
    "    print('Generated df shape where target values are not null: ', full_df.shape)\n",
    "    print('------------------------------')\n",
    "    full_df.drop(columns='Unnamed: 0', inplace=True)\n",
    "    print(full_df.head())\n",
    "    \n",
    "    return full_df\n",
    "\n",
    "df = generate_df(df1, df1['label3'])"
   ]
  },
  {
   "cell_type": "code",
   "execution_count": 7,
   "id": "7ebbb736",
   "metadata": {},
   "outputs": [],
   "source": [
    "def extract_features(text, vectorizer_type=None):\n",
    "    \n",
    "    if vectorizer_type == 'Count':\n",
    "        vectorizer = CountVectorizer(min_df=5, stop_words='english', ngram_range=(1,2))\n",
    "        tf = vectorizer.fit_transform(text.values.astype('U'))\n",
    "        tf_feature_names = vectorizer.get_feature_names()\n",
    "        doc_term_matrix = pd.DataFrame(tf.toarray(), columns=list(tf_feature_names))\n",
    "    else:\n",
    "        vectorizer = TfidfVectorizer(min_df=5, stop_words='english', ngram_range=(1,2))\n",
    "        tf = vectorizer.fit_transform(text.values.astype('U'))\n",
    "        tf_feature_names = vectorizer.get_feature_names()\n",
    "        doc_term_matrix = pd.DataFrame(tf.toarray(), columns=list(tf_feature_names))\n",
    "    \n",
    "    print(tf.shape)\n",
    "    print(\"total number of words in vocabulary:\", len(vectorizer.vocabulary_)) \n",
    "    \n",
    "    return vectorizer, doc_term_matrix\n",
    "\n",
    "    # lda_model = LatentDirichletAllocation(n_components=2, learning_method='online', max_iter=100, random_state=0).fit(tf)\n",
    "    # no_top_words = 100\n",
    "\n",
    "    # pyLDAvis.enable_notebook()\n",
    "    # panel = pyLDAvis.sklearn.prepare(lda_model, tf, tf_vectorizer, mds='tsne')\n",
    "    # print(panel)"
   ]
  },
  {
   "cell_type": "code",
   "execution_count": 8,
   "id": "6bd67a28",
   "metadata": {},
   "outputs": [
    {
     "name": "stdout",
     "output_type": "stream",
     "text": [
      "(8051, 5543)\n",
      "total number of words in vocabulary: 5543\n"
     ]
    },
    {
     "name": "stderr",
     "output_type": "stream",
     "text": [
      "/opt/anaconda3/lib/python3.7/site-packages/sklearn/utils/deprecation.py:87: FutureWarning: Function get_feature_names is deprecated; get_feature_names is deprecated in 1.0 and will be removed in 1.2. Please use get_feature_names_out instead.\n",
      "  warnings.warn(msg, category=FutureWarning)\n"
     ]
    }
   ],
   "source": [
    "vect, dtm = extract_features(df['tweet'], 'Tfidf')"
   ]
  },
  {
   "cell_type": "markdown",
   "id": "c130acb6",
   "metadata": {},
   "source": [
    "# Model Preparation\n",
    "- Encode the label column of df where 1 = diagnosed; 0 = not diagnosed\n",
    "- Select features to include in text models"
   ]
  },
  {
   "cell_type": "code",
   "execution_count": 9,
   "id": "ef3bb54f",
   "metadata": {},
   "outputs": [
    {
     "data": {
      "text/html": [
       "<div>\n",
       "<style scoped>\n",
       "    .dataframe tbody tr th:only-of-type {\n",
       "        vertical-align: middle;\n",
       "    }\n",
       "\n",
       "    .dataframe tbody tr th {\n",
       "        vertical-align: top;\n",
       "    }\n",
       "\n",
       "    .dataframe thead th {\n",
       "        text-align: right;\n",
       "    }\n",
       "</style>\n",
       "<table border=\"1\" class=\"dataframe\">\n",
       "  <thead>\n",
       "    <tr style=\"text-align: right;\">\n",
       "      <th></th>\n",
       "      <th>tweet</th>\n",
       "      <th>label3</th>\n",
       "    </tr>\n",
       "  </thead>\n",
       "  <tbody>\n",
       "    <tr>\n",
       "      <th>6045</th>\n",
       "      <td>formerly homeless ex drug addict w bipolar dis...</td>\n",
       "      <td>not diagnosed</td>\n",
       "    </tr>\n",
       "    <tr>\n",
       "      <th>19</th>\n",
       "      <td>u diagnosed w bipolar disorder come support gr...</td>\n",
       "      <td>diagnosed</td>\n",
       "    </tr>\n",
       "    <tr>\n",
       "      <th>7650</th>\n",
       "      <td>ten million people u bipolar disorder people c...</td>\n",
       "      <td>not diagnosed</td>\n",
       "    </tr>\n",
       "    <tr>\n",
       "      <th>5237</th>\n",
       "      <td>cade apologies intended insult bipolar diagnos...</td>\n",
       "      <td>not diagnosed</td>\n",
       "    </tr>\n",
       "    <tr>\n",
       "      <th>5648</th>\n",
       "      <td>bipolar person know debate</td>\n",
       "      <td>not diagnosed</td>\n",
       "    </tr>\n",
       "    <tr>\n",
       "      <th>1655</th>\n",
       "      <td>pilocytic astrocytoma grade bipolar neoplastic...</td>\n",
       "      <td>diagnosed</td>\n",
       "    </tr>\n",
       "    <tr>\n",
       "      <th>7845</th>\n",
       "      <td>know meant episodes diagnosed bipolar disorder...</td>\n",
       "      <td>not diagnosed</td>\n",
       "    </tr>\n",
       "    <tr>\n",
       "      <th>4939</th>\n",
       "      <td>actually bipolar teenager might consider googl...</td>\n",
       "      <td>not diagnosed</td>\n",
       "    </tr>\n",
       "    <tr>\n",
       "      <th>2764</th>\n",
       "      <td>bipolar mine diagnosed unfortunate block car c...</td>\n",
       "      <td>diagnosed</td>\n",
       "    </tr>\n",
       "    <tr>\n",
       "      <th>85</th>\n",
       "      <td>waiting diagnosed bipolar disorderfya</td>\n",
       "      <td>diagnosed</td>\n",
       "    </tr>\n",
       "  </tbody>\n",
       "</table>\n",
       "</div>"
      ],
      "text/plain": [
       "                                                  tweet         label3\n",
       "6045  formerly homeless ex drug addict w bipolar dis...  not diagnosed\n",
       "19    u diagnosed w bipolar disorder come support gr...      diagnosed\n",
       "7650  ten million people u bipolar disorder people c...  not diagnosed\n",
       "5237  cade apologies intended insult bipolar diagnos...  not diagnosed\n",
       "5648                         bipolar person know debate  not diagnosed\n",
       "1655  pilocytic astrocytoma grade bipolar neoplastic...      diagnosed\n",
       "7845  know meant episodes diagnosed bipolar disorder...  not diagnosed\n",
       "4939  actually bipolar teenager might consider googl...  not diagnosed\n",
       "2764  bipolar mine diagnosed unfortunate block car c...      diagnosed\n",
       "85                waiting diagnosed bipolar disorderfya      diagnosed"
      ]
     },
     "execution_count": 9,
     "metadata": {},
     "output_type": "execute_result"
    }
   ],
   "source": [
    "df[['tweet', 'label3']].sample(10)"
   ]
  },
  {
   "cell_type": "code",
   "execution_count": 10,
   "id": "033ca6db",
   "metadata": {},
   "outputs": [
    {
     "data": {
      "text/plain": [
       "(8051, 5543)"
      ]
     },
     "execution_count": 10,
     "metadata": {},
     "output_type": "execute_result"
    }
   ],
   "source": [
    "dtm.shape"
   ]
  },
  {
   "cell_type": "code",
   "execution_count": 15,
   "id": "69022da1",
   "metadata": {},
   "outputs": [
    {
     "data": {
      "text/plain": [
       "0       username\n",
       "1       username\n",
       "2       username\n",
       "3       username\n",
       "4       username\n",
       "          ...   \n",
       "8046    username\n",
       "8047    username\n",
       "8048    username\n",
       "8049    username\n",
       "8050    username\n",
       "Name: username, Length: 8051, dtype: object"
      ]
     },
     "execution_count": 15,
     "metadata": {},
     "output_type": "execute_result"
    }
   ],
   "source": [
    "# To preserve anonymity of usernames, we replace each handle with the string 'username'\n",
    "df['username'] = df['username'].replace(df['username'].tolist(), 'username')\n",
    "df['username']"
   ]
  },
  {
   "cell_type": "code",
   "execution_count": 16,
   "id": "ccff1846",
   "metadata": {},
   "outputs": [
    {
     "data": {
      "text/html": [
       "<div>\n",
       "<style scoped>\n",
       "    .dataframe tbody tr th:only-of-type {\n",
       "        vertical-align: middle;\n",
       "    }\n",
       "\n",
       "    .dataframe tbody tr th {\n",
       "        vertical-align: top;\n",
       "    }\n",
       "\n",
       "    .dataframe thead th {\n",
       "        text-align: right;\n",
       "    }\n",
       "</style>\n",
       "<table border=\"1\" class=\"dataframe\">\n",
       "  <thead>\n",
       "    <tr style=\"text-align: right;\">\n",
       "      <th></th>\n",
       "      <th>username</th>\n",
       "      <th>tweet</th>\n",
       "      <th>username_of_retweeter</th>\n",
       "      <th>hashtag</th>\n",
       "      <th>tweet created</th>\n",
       "      <th>number of followers</th>\n",
       "      <th># following</th>\n",
       "      <th>label</th>\n",
       "      <th>Polarity</th>\n",
       "      <th>Polarity_cat</th>\n",
       "      <th>len_tweet</th>\n",
       "      <th>word_count_tweet</th>\n",
       "      <th>label2</th>\n",
       "      <th>label3</th>\n",
       "      <th>encoded label</th>\n",
       "    </tr>\n",
       "  </thead>\n",
       "  <tbody>\n",
       "    <tr>\n",
       "      <th>0</th>\n",
       "      <td>username</td>\n",
       "      <td>self diagnosed severe depression add insomnia ...</td>\n",
       "      <td>__xlovebri</td>\n",
       "      <td>[{'text': 'Empire', 'indices': [131, 138]}]</td>\n",
       "      <td>2017-02-01</td>\n",
       "      <td>54.0</td>\n",
       "      <td>18.0</td>\n",
       "      <td>['diagnosed with']</td>\n",
       "      <td>0.000000</td>\n",
       "      <td>Neutral</td>\n",
       "      <td>117.0</td>\n",
       "      <td>14.0</td>\n",
       "      <td>'diagnosed with'</td>\n",
       "      <td>diagnosed</td>\n",
       "      <td>0</td>\n",
       "    </tr>\n",
       "    <tr>\n",
       "      <th>1</th>\n",
       "      <td>username</td>\n",
       "      <td>diagnosed bipolar getting harassed admin bi</td>\n",
       "      <td>__xlovebri</td>\n",
       "      <td>[{'text': 'Empire', 'indices': [131, 138]}]</td>\n",
       "      <td>2017-01-31</td>\n",
       "      <td>5012.0</td>\n",
       "      <td>4678.0</td>\n",
       "      <td>['diagnosed with', 'diagnosed with bipolar']</td>\n",
       "      <td>0.000000</td>\n",
       "      <td>Neutral</td>\n",
       "      <td>43.0</td>\n",
       "      <td>6.0</td>\n",
       "      <td>'diagnosed with', 'diagnosed with bipolar'</td>\n",
       "      <td>diagnosed</td>\n",
       "      <td>0</td>\n",
       "    </tr>\n",
       "    <tr>\n",
       "      <th>2</th>\n",
       "      <td>username</td>\n",
       "      <td>oh fuck diagnosed bipolar even crazier thought...</td>\n",
       "      <td>__xlovebri</td>\n",
       "      <td>[{'text': 'Empire', 'indices': [131, 138]}]</td>\n",
       "      <td>2017-01-31</td>\n",
       "      <td>228.0</td>\n",
       "      <td>779.0</td>\n",
       "      <td>['got diagnosed', 'diagnosed with', 'diagnosed...</td>\n",
       "      <td>-0.300000</td>\n",
       "      <td>Negative</td>\n",
       "      <td>66.0</td>\n",
       "      <td>11.0</td>\n",
       "      <td>'got diagnosed', 'diagnosed with', 'diagnosed ...</td>\n",
       "      <td>diagnosed</td>\n",
       "      <td>0</td>\n",
       "    </tr>\n",
       "    <tr>\n",
       "      <th>3</th>\n",
       "      <td>username</td>\n",
       "      <td>dont care people bipolar til child diagnosed</td>\n",
       "      <td>__xlovebri</td>\n",
       "      <td>[{'text': 'Empire', 'indices': [131, 138]}]</td>\n",
       "      <td>2017-01-31</td>\n",
       "      <td>210.0</td>\n",
       "      <td>550.0</td>\n",
       "      <td>['diagnosed with']</td>\n",
       "      <td>0.000000</td>\n",
       "      <td>Neutral</td>\n",
       "      <td>44.0</td>\n",
       "      <td>7.0</td>\n",
       "      <td>'diagnosed with'</td>\n",
       "      <td>diagnosed</td>\n",
       "      <td>0</td>\n",
       "    </tr>\n",
       "    <tr>\n",
       "      <th>4</th>\n",
       "      <td>username</td>\n",
       "      <td>ellletstalk two yrs diagnosed w bipolar manic ...</td>\n",
       "      <td>moyetsandy</td>\n",
       "      <td>[{'text': 'bellletstalk', 'indices': [16, 29]}]</td>\n",
       "      <td>2017-01-31</td>\n",
       "      <td>218.0</td>\n",
       "      <td>0.0</td>\n",
       "      <td>['diagnosed with']</td>\n",
       "      <td>-0.400000</td>\n",
       "      <td>Negative</td>\n",
       "      <td>84.0</td>\n",
       "      <td>13.0</td>\n",
       "      <td>'diagnosed with'</td>\n",
       "      <td>diagnosed</td>\n",
       "      <td>0</td>\n",
       "    </tr>\n",
       "    <tr>\n",
       "      <th>...</th>\n",
       "      <td>...</td>\n",
       "      <td>...</td>\n",
       "      <td>...</td>\n",
       "      <td>...</td>\n",
       "      <td>...</td>\n",
       "      <td>...</td>\n",
       "      <td>...</td>\n",
       "      <td>...</td>\n",
       "      <td>...</td>\n",
       "      <td>...</td>\n",
       "      <td>...</td>\n",
       "      <td>...</td>\n",
       "      <td>...</td>\n",
       "      <td>...</td>\n",
       "      <td>...</td>\n",
       "    </tr>\n",
       "    <tr>\n",
       "      <th>8046</th>\n",
       "      <td>username</td>\n",
       "      <td>NaN</td>\n",
       "      <td>felicindacluney</td>\n",
       "      <td>[{'text': 'babe', 'indices': [0, 5]}]</td>\n",
       "      <td>2017-03-01</td>\n",
       "      <td>537.0</td>\n",
       "      <td>563.0</td>\n",
       "      <td>['never been diagnosed']</td>\n",
       "      <td>0.000000</td>\n",
       "      <td>Neutral</td>\n",
       "      <td>0.0</td>\n",
       "      <td>1.0</td>\n",
       "      <td>'never been diagnosed'</td>\n",
       "      <td>not diagnosed</td>\n",
       "      <td>1</td>\n",
       "    </tr>\n",
       "    <tr>\n",
       "      <th>8047</th>\n",
       "      <td>username</td>\n",
       "      <td>NaN</td>\n",
       "      <td>felicindacluney</td>\n",
       "      <td>[{'text': 'babe', 'indices': [0, 5]}]</td>\n",
       "      <td>2017-03-01</td>\n",
       "      <td>518.0</td>\n",
       "      <td>813.0</td>\n",
       "      <td>['never been diagnosed']</td>\n",
       "      <td>0.000000</td>\n",
       "      <td>Neutral</td>\n",
       "      <td>0.0</td>\n",
       "      <td>1.0</td>\n",
       "      <td>'never been diagnosed'</td>\n",
       "      <td>not diagnosed</td>\n",
       "      <td>1</td>\n",
       "    </tr>\n",
       "    <tr>\n",
       "      <th>8048</th>\n",
       "      <td>username</td>\n",
       "      <td>happens house stays house check trailer wild n...</td>\n",
       "      <td>moceanla</td>\n",
       "      <td>[{'text': 'babe', 'indices': [0, 5]}]</td>\n",
       "      <td>2017-03-01</td>\n",
       "      <td>187.0</td>\n",
       "      <td>5001.0</td>\n",
       "      <td>['never been diagnosed']</td>\n",
       "      <td>0.118182</td>\n",
       "      <td>Positive</td>\n",
       "      <td>69.0</td>\n",
       "      <td>10.0</td>\n",
       "      <td>'never been diagnosed'</td>\n",
       "      <td>not diagnosed</td>\n",
       "      <td>1</td>\n",
       "    </tr>\n",
       "    <tr>\n",
       "      <th>8049</th>\n",
       "      <td>username</td>\n",
       "      <td>irthday party decorations batman babyshowerdis...</td>\n",
       "      <td>moceanla</td>\n",
       "      <td>[{'text': 'babyshowerdisney', 'indices': [61, ...</td>\n",
       "      <td>2017-03-01</td>\n",
       "      <td>7.0</td>\n",
       "      <td>1.0</td>\n",
       "      <td>['never been diagnosed']</td>\n",
       "      <td>0.000000</td>\n",
       "      <td>Neutral</td>\n",
       "      <td>66.0</td>\n",
       "      <td>6.0</td>\n",
       "      <td>'never been diagnosed'</td>\n",
       "      <td>not diagnosed</td>\n",
       "      <td>1</td>\n",
       "    </tr>\n",
       "    <tr>\n",
       "      <th>8050</th>\n",
       "      <td>username</td>\n",
       "      <td>est puerto rican nude teens corn hole porn</td>\n",
       "      <td>moceanla</td>\n",
       "      <td>[{'text': 'best', 'indices': [0, 5]}]</td>\n",
       "      <td>2017-03-01</td>\n",
       "      <td>195.0</td>\n",
       "      <td>51.0</td>\n",
       "      <td>['never been diagnosed']</td>\n",
       "      <td>0.000000</td>\n",
       "      <td>Neutral</td>\n",
       "      <td>42.0</td>\n",
       "      <td>8.0</td>\n",
       "      <td>'never been diagnosed'</td>\n",
       "      <td>not diagnosed</td>\n",
       "      <td>1</td>\n",
       "    </tr>\n",
       "  </tbody>\n",
       "</table>\n",
       "<p>8051 rows × 15 columns</p>\n",
       "</div>"
      ],
      "text/plain": [
       "      username                                              tweet  \\\n",
       "0     username  self diagnosed severe depression add insomnia ...   \n",
       "1     username        diagnosed bipolar getting harassed admin bi   \n",
       "2     username  oh fuck diagnosed bipolar even crazier thought...   \n",
       "3     username       dont care people bipolar til child diagnosed   \n",
       "4     username  ellletstalk two yrs diagnosed w bipolar manic ...   \n",
       "...        ...                                                ...   \n",
       "8046  username                                                NaN   \n",
       "8047  username                                                NaN   \n",
       "8048  username  happens house stays house check trailer wild n...   \n",
       "8049  username  irthday party decorations batman babyshowerdis...   \n",
       "8050  username         est puerto rican nude teens corn hole porn   \n",
       "\n",
       "     username_of_retweeter                                            hashtag  \\\n",
       "0               __xlovebri        [{'text': 'Empire', 'indices': [131, 138]}]   \n",
       "1               __xlovebri        [{'text': 'Empire', 'indices': [131, 138]}]   \n",
       "2               __xlovebri        [{'text': 'Empire', 'indices': [131, 138]}]   \n",
       "3               __xlovebri        [{'text': 'Empire', 'indices': [131, 138]}]   \n",
       "4               moyetsandy    [{'text': 'bellletstalk', 'indices': [16, 29]}]   \n",
       "...                    ...                                                ...   \n",
       "8046       felicindacluney              [{'text': 'babe', 'indices': [0, 5]}]   \n",
       "8047       felicindacluney              [{'text': 'babe', 'indices': [0, 5]}]   \n",
       "8048              moceanla              [{'text': 'babe', 'indices': [0, 5]}]   \n",
       "8049              moceanla  [{'text': 'babyshowerdisney', 'indices': [61, ...   \n",
       "8050              moceanla              [{'text': 'best', 'indices': [0, 5]}]   \n",
       "\n",
       "     tweet created  number of followers  # following  \\\n",
       "0       2017-02-01                 54.0         18.0   \n",
       "1       2017-01-31               5012.0       4678.0   \n",
       "2       2017-01-31                228.0        779.0   \n",
       "3       2017-01-31                210.0        550.0   \n",
       "4       2017-01-31                218.0          0.0   \n",
       "...            ...                  ...          ...   \n",
       "8046    2017-03-01                537.0        563.0   \n",
       "8047    2017-03-01                518.0        813.0   \n",
       "8048    2017-03-01                187.0       5001.0   \n",
       "8049    2017-03-01                  7.0          1.0   \n",
       "8050    2017-03-01                195.0         51.0   \n",
       "\n",
       "                                                  label  Polarity  \\\n",
       "0                                    ['diagnosed with']  0.000000   \n",
       "1          ['diagnosed with', 'diagnosed with bipolar']  0.000000   \n",
       "2     ['got diagnosed', 'diagnosed with', 'diagnosed... -0.300000   \n",
       "3                                    ['diagnosed with']  0.000000   \n",
       "4                                    ['diagnosed with'] -0.400000   \n",
       "...                                                 ...       ...   \n",
       "8046                           ['never been diagnosed']  0.000000   \n",
       "8047                           ['never been diagnosed']  0.000000   \n",
       "8048                           ['never been diagnosed']  0.118182   \n",
       "8049                           ['never been diagnosed']  0.000000   \n",
       "8050                           ['never been diagnosed']  0.000000   \n",
       "\n",
       "     Polarity_cat  len_tweet  word_count_tweet  \\\n",
       "0         Neutral      117.0              14.0   \n",
       "1         Neutral       43.0               6.0   \n",
       "2        Negative       66.0              11.0   \n",
       "3         Neutral       44.0               7.0   \n",
       "4        Negative       84.0              13.0   \n",
       "...           ...        ...               ...   \n",
       "8046      Neutral        0.0               1.0   \n",
       "8047      Neutral        0.0               1.0   \n",
       "8048     Positive       69.0              10.0   \n",
       "8049      Neutral       66.0               6.0   \n",
       "8050      Neutral       42.0               8.0   \n",
       "\n",
       "                                                 label2         label3  \\\n",
       "0                                      'diagnosed with'      diagnosed   \n",
       "1            'diagnosed with', 'diagnosed with bipolar'      diagnosed   \n",
       "2     'got diagnosed', 'diagnosed with', 'diagnosed ...      diagnosed   \n",
       "3                                      'diagnosed with'      diagnosed   \n",
       "4                                      'diagnosed with'      diagnosed   \n",
       "...                                                 ...            ...   \n",
       "8046                             'never been diagnosed'  not diagnosed   \n",
       "8047                             'never been diagnosed'  not diagnosed   \n",
       "8048                             'never been diagnosed'  not diagnosed   \n",
       "8049                             'never been diagnosed'  not diagnosed   \n",
       "8050                             'never been diagnosed'  not diagnosed   \n",
       "\n",
       "      encoded label  \n",
       "0                 0  \n",
       "1                 0  \n",
       "2                 0  \n",
       "3                 0  \n",
       "4                 0  \n",
       "...             ...  \n",
       "8046              1  \n",
       "8047              1  \n",
       "8048              1  \n",
       "8049              1  \n",
       "8050              1  \n",
       "\n",
       "[8051 rows x 15 columns]"
      ]
     },
     "execution_count": 16,
     "metadata": {},
     "output_type": "execute_result"
    }
   ],
   "source": [
    "from sklearn import preprocessing \n",
    "\n",
    "le = preprocessing.LabelEncoder()\n",
    "df['encoded label'] = le.fit_transform(df['label3']) \n",
    "df"
   ]
  },
  {
   "cell_type": "code",
   "execution_count": 17,
   "id": "8f8b24ff",
   "metadata": {},
   "outputs": [],
   "source": [
    "df.drop('encoded label', axis=1, inplace=True)"
   ]
  },
  {
   "cell_type": "code",
   "execution_count": 18,
   "id": "8da20df1",
   "metadata": {},
   "outputs": [
    {
     "data": {
      "text/html": [
       "<div>\n",
       "<style scoped>\n",
       "    .dataframe tbody tr th:only-of-type {\n",
       "        vertical-align: middle;\n",
       "    }\n",
       "\n",
       "    .dataframe tbody tr th {\n",
       "        vertical-align: top;\n",
       "    }\n",
       "\n",
       "    .dataframe thead th {\n",
       "        text-align: right;\n",
       "    }\n",
       "</style>\n",
       "<table border=\"1\" class=\"dataframe\">\n",
       "  <thead>\n",
       "    <tr style=\"text-align: right;\">\n",
       "      <th></th>\n",
       "      <th>username</th>\n",
       "      <th>tweet</th>\n",
       "      <th>username_of_retweeter</th>\n",
       "      <th>hashtag</th>\n",
       "      <th>tweet created</th>\n",
       "      <th>number of followers</th>\n",
       "      <th># following</th>\n",
       "      <th>label</th>\n",
       "      <th>Polarity</th>\n",
       "      <th>Polarity_cat</th>\n",
       "      <th>len_tweet</th>\n",
       "      <th>word_count_tweet</th>\n",
       "      <th>label2</th>\n",
       "      <th>label3</th>\n",
       "    </tr>\n",
       "  </thead>\n",
       "  <tbody>\n",
       "    <tr>\n",
       "      <th>0</th>\n",
       "      <td>username</td>\n",
       "      <td>self diagnosed severe depression add insomnia ...</td>\n",
       "      <td>__xlovebri</td>\n",
       "      <td>[{'text': 'Empire', 'indices': [131, 138]}]</td>\n",
       "      <td>2017-02-01</td>\n",
       "      <td>54.0</td>\n",
       "      <td>18.0</td>\n",
       "      <td>['diagnosed with']</td>\n",
       "      <td>0.000000</td>\n",
       "      <td>Neutral</td>\n",
       "      <td>117.0</td>\n",
       "      <td>14.0</td>\n",
       "      <td>'diagnosed with'</td>\n",
       "      <td>diagnosed</td>\n",
       "    </tr>\n",
       "    <tr>\n",
       "      <th>1</th>\n",
       "      <td>username</td>\n",
       "      <td>diagnosed bipolar getting harassed admin bi</td>\n",
       "      <td>__xlovebri</td>\n",
       "      <td>[{'text': 'Empire', 'indices': [131, 138]}]</td>\n",
       "      <td>2017-01-31</td>\n",
       "      <td>5012.0</td>\n",
       "      <td>4678.0</td>\n",
       "      <td>['diagnosed with', 'diagnosed with bipolar']</td>\n",
       "      <td>0.000000</td>\n",
       "      <td>Neutral</td>\n",
       "      <td>43.0</td>\n",
       "      <td>6.0</td>\n",
       "      <td>'diagnosed with', 'diagnosed with bipolar'</td>\n",
       "      <td>diagnosed</td>\n",
       "    </tr>\n",
       "    <tr>\n",
       "      <th>2</th>\n",
       "      <td>username</td>\n",
       "      <td>oh fuck diagnosed bipolar even crazier thought...</td>\n",
       "      <td>__xlovebri</td>\n",
       "      <td>[{'text': 'Empire', 'indices': [131, 138]}]</td>\n",
       "      <td>2017-01-31</td>\n",
       "      <td>228.0</td>\n",
       "      <td>779.0</td>\n",
       "      <td>['got diagnosed', 'diagnosed with', 'diagnosed...</td>\n",
       "      <td>-0.300000</td>\n",
       "      <td>Negative</td>\n",
       "      <td>66.0</td>\n",
       "      <td>11.0</td>\n",
       "      <td>'got diagnosed', 'diagnosed with', 'diagnosed ...</td>\n",
       "      <td>diagnosed</td>\n",
       "    </tr>\n",
       "    <tr>\n",
       "      <th>3</th>\n",
       "      <td>username</td>\n",
       "      <td>dont care people bipolar til child diagnosed</td>\n",
       "      <td>__xlovebri</td>\n",
       "      <td>[{'text': 'Empire', 'indices': [131, 138]}]</td>\n",
       "      <td>2017-01-31</td>\n",
       "      <td>210.0</td>\n",
       "      <td>550.0</td>\n",
       "      <td>['diagnosed with']</td>\n",
       "      <td>0.000000</td>\n",
       "      <td>Neutral</td>\n",
       "      <td>44.0</td>\n",
       "      <td>7.0</td>\n",
       "      <td>'diagnosed with'</td>\n",
       "      <td>diagnosed</td>\n",
       "    </tr>\n",
       "    <tr>\n",
       "      <th>4</th>\n",
       "      <td>username</td>\n",
       "      <td>ellletstalk two yrs diagnosed w bipolar manic ...</td>\n",
       "      <td>moyetsandy</td>\n",
       "      <td>[{'text': 'bellletstalk', 'indices': [16, 29]}]</td>\n",
       "      <td>2017-01-31</td>\n",
       "      <td>218.0</td>\n",
       "      <td>0.0</td>\n",
       "      <td>['diagnosed with']</td>\n",
       "      <td>-0.400000</td>\n",
       "      <td>Negative</td>\n",
       "      <td>84.0</td>\n",
       "      <td>13.0</td>\n",
       "      <td>'diagnosed with'</td>\n",
       "      <td>diagnosed</td>\n",
       "    </tr>\n",
       "    <tr>\n",
       "      <th>...</th>\n",
       "      <td>...</td>\n",
       "      <td>...</td>\n",
       "      <td>...</td>\n",
       "      <td>...</td>\n",
       "      <td>...</td>\n",
       "      <td>...</td>\n",
       "      <td>...</td>\n",
       "      <td>...</td>\n",
       "      <td>...</td>\n",
       "      <td>...</td>\n",
       "      <td>...</td>\n",
       "      <td>...</td>\n",
       "      <td>...</td>\n",
       "      <td>...</td>\n",
       "    </tr>\n",
       "    <tr>\n",
       "      <th>8046</th>\n",
       "      <td>username</td>\n",
       "      <td>NaN</td>\n",
       "      <td>felicindacluney</td>\n",
       "      <td>[{'text': 'babe', 'indices': [0, 5]}]</td>\n",
       "      <td>2017-03-01</td>\n",
       "      <td>537.0</td>\n",
       "      <td>563.0</td>\n",
       "      <td>['never been diagnosed']</td>\n",
       "      <td>0.000000</td>\n",
       "      <td>Neutral</td>\n",
       "      <td>0.0</td>\n",
       "      <td>1.0</td>\n",
       "      <td>'never been diagnosed'</td>\n",
       "      <td>not diagnosed</td>\n",
       "    </tr>\n",
       "    <tr>\n",
       "      <th>8047</th>\n",
       "      <td>username</td>\n",
       "      <td>NaN</td>\n",
       "      <td>felicindacluney</td>\n",
       "      <td>[{'text': 'babe', 'indices': [0, 5]}]</td>\n",
       "      <td>2017-03-01</td>\n",
       "      <td>518.0</td>\n",
       "      <td>813.0</td>\n",
       "      <td>['never been diagnosed']</td>\n",
       "      <td>0.000000</td>\n",
       "      <td>Neutral</td>\n",
       "      <td>0.0</td>\n",
       "      <td>1.0</td>\n",
       "      <td>'never been diagnosed'</td>\n",
       "      <td>not diagnosed</td>\n",
       "    </tr>\n",
       "    <tr>\n",
       "      <th>8048</th>\n",
       "      <td>username</td>\n",
       "      <td>happens house stays house check trailer wild n...</td>\n",
       "      <td>moceanla</td>\n",
       "      <td>[{'text': 'babe', 'indices': [0, 5]}]</td>\n",
       "      <td>2017-03-01</td>\n",
       "      <td>187.0</td>\n",
       "      <td>5001.0</td>\n",
       "      <td>['never been diagnosed']</td>\n",
       "      <td>0.118182</td>\n",
       "      <td>Positive</td>\n",
       "      <td>69.0</td>\n",
       "      <td>10.0</td>\n",
       "      <td>'never been diagnosed'</td>\n",
       "      <td>not diagnosed</td>\n",
       "    </tr>\n",
       "    <tr>\n",
       "      <th>8049</th>\n",
       "      <td>username</td>\n",
       "      <td>irthday party decorations batman babyshowerdis...</td>\n",
       "      <td>moceanla</td>\n",
       "      <td>[{'text': 'babyshowerdisney', 'indices': [61, ...</td>\n",
       "      <td>2017-03-01</td>\n",
       "      <td>7.0</td>\n",
       "      <td>1.0</td>\n",
       "      <td>['never been diagnosed']</td>\n",
       "      <td>0.000000</td>\n",
       "      <td>Neutral</td>\n",
       "      <td>66.0</td>\n",
       "      <td>6.0</td>\n",
       "      <td>'never been diagnosed'</td>\n",
       "      <td>not diagnosed</td>\n",
       "    </tr>\n",
       "    <tr>\n",
       "      <th>8050</th>\n",
       "      <td>username</td>\n",
       "      <td>est puerto rican nude teens corn hole porn</td>\n",
       "      <td>moceanla</td>\n",
       "      <td>[{'text': 'best', 'indices': [0, 5]}]</td>\n",
       "      <td>2017-03-01</td>\n",
       "      <td>195.0</td>\n",
       "      <td>51.0</td>\n",
       "      <td>['never been diagnosed']</td>\n",
       "      <td>0.000000</td>\n",
       "      <td>Neutral</td>\n",
       "      <td>42.0</td>\n",
       "      <td>8.0</td>\n",
       "      <td>'never been diagnosed'</td>\n",
       "      <td>not diagnosed</td>\n",
       "    </tr>\n",
       "  </tbody>\n",
       "</table>\n",
       "<p>8051 rows × 14 columns</p>\n",
       "</div>"
      ],
      "text/plain": [
       "      username                                              tweet  \\\n",
       "0     username  self diagnosed severe depression add insomnia ...   \n",
       "1     username        diagnosed bipolar getting harassed admin bi   \n",
       "2     username  oh fuck diagnosed bipolar even crazier thought...   \n",
       "3     username       dont care people bipolar til child diagnosed   \n",
       "4     username  ellletstalk two yrs diagnosed w bipolar manic ...   \n",
       "...        ...                                                ...   \n",
       "8046  username                                                NaN   \n",
       "8047  username                                                NaN   \n",
       "8048  username  happens house stays house check trailer wild n...   \n",
       "8049  username  irthday party decorations batman babyshowerdis...   \n",
       "8050  username         est puerto rican nude teens corn hole porn   \n",
       "\n",
       "     username_of_retweeter                                            hashtag  \\\n",
       "0               __xlovebri        [{'text': 'Empire', 'indices': [131, 138]}]   \n",
       "1               __xlovebri        [{'text': 'Empire', 'indices': [131, 138]}]   \n",
       "2               __xlovebri        [{'text': 'Empire', 'indices': [131, 138]}]   \n",
       "3               __xlovebri        [{'text': 'Empire', 'indices': [131, 138]}]   \n",
       "4               moyetsandy    [{'text': 'bellletstalk', 'indices': [16, 29]}]   \n",
       "...                    ...                                                ...   \n",
       "8046       felicindacluney              [{'text': 'babe', 'indices': [0, 5]}]   \n",
       "8047       felicindacluney              [{'text': 'babe', 'indices': [0, 5]}]   \n",
       "8048              moceanla              [{'text': 'babe', 'indices': [0, 5]}]   \n",
       "8049              moceanla  [{'text': 'babyshowerdisney', 'indices': [61, ...   \n",
       "8050              moceanla              [{'text': 'best', 'indices': [0, 5]}]   \n",
       "\n",
       "     tweet created  number of followers  # following  \\\n",
       "0       2017-02-01                 54.0         18.0   \n",
       "1       2017-01-31               5012.0       4678.0   \n",
       "2       2017-01-31                228.0        779.0   \n",
       "3       2017-01-31                210.0        550.0   \n",
       "4       2017-01-31                218.0          0.0   \n",
       "...            ...                  ...          ...   \n",
       "8046    2017-03-01                537.0        563.0   \n",
       "8047    2017-03-01                518.0        813.0   \n",
       "8048    2017-03-01                187.0       5001.0   \n",
       "8049    2017-03-01                  7.0          1.0   \n",
       "8050    2017-03-01                195.0         51.0   \n",
       "\n",
       "                                                  label  Polarity  \\\n",
       "0                                    ['diagnosed with']  0.000000   \n",
       "1          ['diagnosed with', 'diagnosed with bipolar']  0.000000   \n",
       "2     ['got diagnosed', 'diagnosed with', 'diagnosed... -0.300000   \n",
       "3                                    ['diagnosed with']  0.000000   \n",
       "4                                    ['diagnosed with'] -0.400000   \n",
       "...                                                 ...       ...   \n",
       "8046                           ['never been diagnosed']  0.000000   \n",
       "8047                           ['never been diagnosed']  0.000000   \n",
       "8048                           ['never been diagnosed']  0.118182   \n",
       "8049                           ['never been diagnosed']  0.000000   \n",
       "8050                           ['never been diagnosed']  0.000000   \n",
       "\n",
       "     Polarity_cat  len_tweet  word_count_tweet  \\\n",
       "0         Neutral      117.0              14.0   \n",
       "1         Neutral       43.0               6.0   \n",
       "2        Negative       66.0              11.0   \n",
       "3         Neutral       44.0               7.0   \n",
       "4        Negative       84.0              13.0   \n",
       "...           ...        ...               ...   \n",
       "8046      Neutral        0.0               1.0   \n",
       "8047      Neutral        0.0               1.0   \n",
       "8048     Positive       69.0              10.0   \n",
       "8049      Neutral       66.0               6.0   \n",
       "8050      Neutral       42.0               8.0   \n",
       "\n",
       "                                                 label2         label3  \n",
       "0                                      'diagnosed with'      diagnosed  \n",
       "1            'diagnosed with', 'diagnosed with bipolar'      diagnosed  \n",
       "2     'got diagnosed', 'diagnosed with', 'diagnosed ...      diagnosed  \n",
       "3                                      'diagnosed with'      diagnosed  \n",
       "4                                      'diagnosed with'      diagnosed  \n",
       "...                                                 ...            ...  \n",
       "8046                             'never been diagnosed'  not diagnosed  \n",
       "8047                             'never been diagnosed'  not diagnosed  \n",
       "8048                             'never been diagnosed'  not diagnosed  \n",
       "8049                             'never been diagnosed'  not diagnosed  \n",
       "8050                             'never been diagnosed'  not diagnosed  \n",
       "\n",
       "[8051 rows x 14 columns]"
      ]
     },
     "execution_count": 18,
     "metadata": {},
     "output_type": "execute_result"
    }
   ],
   "source": [
    "df"
   ]
  },
  {
   "cell_type": "code",
   "execution_count": 19,
   "id": "9983b269",
   "metadata": {},
   "outputs": [
    {
     "data": {
      "text/html": [
       "<div>\n",
       "<style scoped>\n",
       "    .dataframe tbody tr th:only-of-type {\n",
       "        vertical-align: middle;\n",
       "    }\n",
       "\n",
       "    .dataframe tbody tr th {\n",
       "        vertical-align: top;\n",
       "    }\n",
       "\n",
       "    .dataframe thead th {\n",
       "        text-align: right;\n",
       "    }\n",
       "</style>\n",
       "<table border=\"1\" class=\"dataframe\">\n",
       "  <thead>\n",
       "    <tr style=\"text-align: right;\">\n",
       "      <th></th>\n",
       "      <th>username</th>\n",
       "      <th>tweet</th>\n",
       "      <th>username_of_retweeter</th>\n",
       "      <th>hashtag</th>\n",
       "      <th>tweet created</th>\n",
       "      <th>number of followers</th>\n",
       "      <th># following</th>\n",
       "      <th>label</th>\n",
       "      <th>Polarity</th>\n",
       "      <th>Polarity_cat</th>\n",
       "      <th>len_tweet</th>\n",
       "      <th>word_count_tweet</th>\n",
       "      <th>label2</th>\n",
       "      <th>label3</th>\n",
       "      <th>encoded label</th>\n",
       "    </tr>\n",
       "  </thead>\n",
       "  <tbody>\n",
       "    <tr>\n",
       "      <th>0</th>\n",
       "      <td>username</td>\n",
       "      <td>self diagnosed severe depression add insomnia ...</td>\n",
       "      <td>__xlovebri</td>\n",
       "      <td>[{'text': 'Empire', 'indices': [131, 138]}]</td>\n",
       "      <td>2017-02-01</td>\n",
       "      <td>54.0</td>\n",
       "      <td>18.0</td>\n",
       "      <td>['diagnosed with']</td>\n",
       "      <td>0.000000</td>\n",
       "      <td>Neutral</td>\n",
       "      <td>117.0</td>\n",
       "      <td>14.0</td>\n",
       "      <td>'diagnosed with'</td>\n",
       "      <td>diagnosed</td>\n",
       "      <td>1</td>\n",
       "    </tr>\n",
       "    <tr>\n",
       "      <th>1</th>\n",
       "      <td>username</td>\n",
       "      <td>diagnosed bipolar getting harassed admin bi</td>\n",
       "      <td>__xlovebri</td>\n",
       "      <td>[{'text': 'Empire', 'indices': [131, 138]}]</td>\n",
       "      <td>2017-01-31</td>\n",
       "      <td>5012.0</td>\n",
       "      <td>4678.0</td>\n",
       "      <td>['diagnosed with', 'diagnosed with bipolar']</td>\n",
       "      <td>0.000000</td>\n",
       "      <td>Neutral</td>\n",
       "      <td>43.0</td>\n",
       "      <td>6.0</td>\n",
       "      <td>'diagnosed with', 'diagnosed with bipolar'</td>\n",
       "      <td>diagnosed</td>\n",
       "      <td>1</td>\n",
       "    </tr>\n",
       "    <tr>\n",
       "      <th>2</th>\n",
       "      <td>username</td>\n",
       "      <td>oh fuck diagnosed bipolar even crazier thought...</td>\n",
       "      <td>__xlovebri</td>\n",
       "      <td>[{'text': 'Empire', 'indices': [131, 138]}]</td>\n",
       "      <td>2017-01-31</td>\n",
       "      <td>228.0</td>\n",
       "      <td>779.0</td>\n",
       "      <td>['got diagnosed', 'diagnosed with', 'diagnosed...</td>\n",
       "      <td>-0.300000</td>\n",
       "      <td>Negative</td>\n",
       "      <td>66.0</td>\n",
       "      <td>11.0</td>\n",
       "      <td>'got diagnosed', 'diagnosed with', 'diagnosed ...</td>\n",
       "      <td>diagnosed</td>\n",
       "      <td>1</td>\n",
       "    </tr>\n",
       "    <tr>\n",
       "      <th>3</th>\n",
       "      <td>username</td>\n",
       "      <td>dont care people bipolar til child diagnosed</td>\n",
       "      <td>__xlovebri</td>\n",
       "      <td>[{'text': 'Empire', 'indices': [131, 138]}]</td>\n",
       "      <td>2017-01-31</td>\n",
       "      <td>210.0</td>\n",
       "      <td>550.0</td>\n",
       "      <td>['diagnosed with']</td>\n",
       "      <td>0.000000</td>\n",
       "      <td>Neutral</td>\n",
       "      <td>44.0</td>\n",
       "      <td>7.0</td>\n",
       "      <td>'diagnosed with'</td>\n",
       "      <td>diagnosed</td>\n",
       "      <td>1</td>\n",
       "    </tr>\n",
       "    <tr>\n",
       "      <th>4</th>\n",
       "      <td>username</td>\n",
       "      <td>ellletstalk two yrs diagnosed w bipolar manic ...</td>\n",
       "      <td>moyetsandy</td>\n",
       "      <td>[{'text': 'bellletstalk', 'indices': [16, 29]}]</td>\n",
       "      <td>2017-01-31</td>\n",
       "      <td>218.0</td>\n",
       "      <td>0.0</td>\n",
       "      <td>['diagnosed with']</td>\n",
       "      <td>-0.400000</td>\n",
       "      <td>Negative</td>\n",
       "      <td>84.0</td>\n",
       "      <td>13.0</td>\n",
       "      <td>'diagnosed with'</td>\n",
       "      <td>diagnosed</td>\n",
       "      <td>1</td>\n",
       "    </tr>\n",
       "    <tr>\n",
       "      <th>...</th>\n",
       "      <td>...</td>\n",
       "      <td>...</td>\n",
       "      <td>...</td>\n",
       "      <td>...</td>\n",
       "      <td>...</td>\n",
       "      <td>...</td>\n",
       "      <td>...</td>\n",
       "      <td>...</td>\n",
       "      <td>...</td>\n",
       "      <td>...</td>\n",
       "      <td>...</td>\n",
       "      <td>...</td>\n",
       "      <td>...</td>\n",
       "      <td>...</td>\n",
       "      <td>...</td>\n",
       "    </tr>\n",
       "    <tr>\n",
       "      <th>8046</th>\n",
       "      <td>username</td>\n",
       "      <td>NaN</td>\n",
       "      <td>felicindacluney</td>\n",
       "      <td>[{'text': 'babe', 'indices': [0, 5]}]</td>\n",
       "      <td>2017-03-01</td>\n",
       "      <td>537.0</td>\n",
       "      <td>563.0</td>\n",
       "      <td>['never been diagnosed']</td>\n",
       "      <td>0.000000</td>\n",
       "      <td>Neutral</td>\n",
       "      <td>0.0</td>\n",
       "      <td>1.0</td>\n",
       "      <td>'never been diagnosed'</td>\n",
       "      <td>not diagnosed</td>\n",
       "      <td>0</td>\n",
       "    </tr>\n",
       "    <tr>\n",
       "      <th>8047</th>\n",
       "      <td>username</td>\n",
       "      <td>NaN</td>\n",
       "      <td>felicindacluney</td>\n",
       "      <td>[{'text': 'babe', 'indices': [0, 5]}]</td>\n",
       "      <td>2017-03-01</td>\n",
       "      <td>518.0</td>\n",
       "      <td>813.0</td>\n",
       "      <td>['never been diagnosed']</td>\n",
       "      <td>0.000000</td>\n",
       "      <td>Neutral</td>\n",
       "      <td>0.0</td>\n",
       "      <td>1.0</td>\n",
       "      <td>'never been diagnosed'</td>\n",
       "      <td>not diagnosed</td>\n",
       "      <td>0</td>\n",
       "    </tr>\n",
       "    <tr>\n",
       "      <th>8048</th>\n",
       "      <td>username</td>\n",
       "      <td>happens house stays house check trailer wild n...</td>\n",
       "      <td>moceanla</td>\n",
       "      <td>[{'text': 'babe', 'indices': [0, 5]}]</td>\n",
       "      <td>2017-03-01</td>\n",
       "      <td>187.0</td>\n",
       "      <td>5001.0</td>\n",
       "      <td>['never been diagnosed']</td>\n",
       "      <td>0.118182</td>\n",
       "      <td>Positive</td>\n",
       "      <td>69.0</td>\n",
       "      <td>10.0</td>\n",
       "      <td>'never been diagnosed'</td>\n",
       "      <td>not diagnosed</td>\n",
       "      <td>0</td>\n",
       "    </tr>\n",
       "    <tr>\n",
       "      <th>8049</th>\n",
       "      <td>username</td>\n",
       "      <td>irthday party decorations batman babyshowerdis...</td>\n",
       "      <td>moceanla</td>\n",
       "      <td>[{'text': 'babyshowerdisney', 'indices': [61, ...</td>\n",
       "      <td>2017-03-01</td>\n",
       "      <td>7.0</td>\n",
       "      <td>1.0</td>\n",
       "      <td>['never been diagnosed']</td>\n",
       "      <td>0.000000</td>\n",
       "      <td>Neutral</td>\n",
       "      <td>66.0</td>\n",
       "      <td>6.0</td>\n",
       "      <td>'never been diagnosed'</td>\n",
       "      <td>not diagnosed</td>\n",
       "      <td>0</td>\n",
       "    </tr>\n",
       "    <tr>\n",
       "      <th>8050</th>\n",
       "      <td>username</td>\n",
       "      <td>est puerto rican nude teens corn hole porn</td>\n",
       "      <td>moceanla</td>\n",
       "      <td>[{'text': 'best', 'indices': [0, 5]}]</td>\n",
       "      <td>2017-03-01</td>\n",
       "      <td>195.0</td>\n",
       "      <td>51.0</td>\n",
       "      <td>['never been diagnosed']</td>\n",
       "      <td>0.000000</td>\n",
       "      <td>Neutral</td>\n",
       "      <td>42.0</td>\n",
       "      <td>8.0</td>\n",
       "      <td>'never been diagnosed'</td>\n",
       "      <td>not diagnosed</td>\n",
       "      <td>0</td>\n",
       "    </tr>\n",
       "  </tbody>\n",
       "</table>\n",
       "<p>8051 rows × 15 columns</p>\n",
       "</div>"
      ],
      "text/plain": [
       "      username                                              tweet  \\\n",
       "0     username  self diagnosed severe depression add insomnia ...   \n",
       "1     username        diagnosed bipolar getting harassed admin bi   \n",
       "2     username  oh fuck diagnosed bipolar even crazier thought...   \n",
       "3     username       dont care people bipolar til child diagnosed   \n",
       "4     username  ellletstalk two yrs diagnosed w bipolar manic ...   \n",
       "...        ...                                                ...   \n",
       "8046  username                                                NaN   \n",
       "8047  username                                                NaN   \n",
       "8048  username  happens house stays house check trailer wild n...   \n",
       "8049  username  irthday party decorations batman babyshowerdis...   \n",
       "8050  username         est puerto rican nude teens corn hole porn   \n",
       "\n",
       "     username_of_retweeter                                            hashtag  \\\n",
       "0               __xlovebri        [{'text': 'Empire', 'indices': [131, 138]}]   \n",
       "1               __xlovebri        [{'text': 'Empire', 'indices': [131, 138]}]   \n",
       "2               __xlovebri        [{'text': 'Empire', 'indices': [131, 138]}]   \n",
       "3               __xlovebri        [{'text': 'Empire', 'indices': [131, 138]}]   \n",
       "4               moyetsandy    [{'text': 'bellletstalk', 'indices': [16, 29]}]   \n",
       "...                    ...                                                ...   \n",
       "8046       felicindacluney              [{'text': 'babe', 'indices': [0, 5]}]   \n",
       "8047       felicindacluney              [{'text': 'babe', 'indices': [0, 5]}]   \n",
       "8048              moceanla              [{'text': 'babe', 'indices': [0, 5]}]   \n",
       "8049              moceanla  [{'text': 'babyshowerdisney', 'indices': [61, ...   \n",
       "8050              moceanla              [{'text': 'best', 'indices': [0, 5]}]   \n",
       "\n",
       "     tweet created  number of followers  # following  \\\n",
       "0       2017-02-01                 54.0         18.0   \n",
       "1       2017-01-31               5012.0       4678.0   \n",
       "2       2017-01-31                228.0        779.0   \n",
       "3       2017-01-31                210.0        550.0   \n",
       "4       2017-01-31                218.0          0.0   \n",
       "...            ...                  ...          ...   \n",
       "8046    2017-03-01                537.0        563.0   \n",
       "8047    2017-03-01                518.0        813.0   \n",
       "8048    2017-03-01                187.0       5001.0   \n",
       "8049    2017-03-01                  7.0          1.0   \n",
       "8050    2017-03-01                195.0         51.0   \n",
       "\n",
       "                                                  label  Polarity  \\\n",
       "0                                    ['diagnosed with']  0.000000   \n",
       "1          ['diagnosed with', 'diagnosed with bipolar']  0.000000   \n",
       "2     ['got diagnosed', 'diagnosed with', 'diagnosed... -0.300000   \n",
       "3                                    ['diagnosed with']  0.000000   \n",
       "4                                    ['diagnosed with'] -0.400000   \n",
       "...                                                 ...       ...   \n",
       "8046                           ['never been diagnosed']  0.000000   \n",
       "8047                           ['never been diagnosed']  0.000000   \n",
       "8048                           ['never been diagnosed']  0.118182   \n",
       "8049                           ['never been diagnosed']  0.000000   \n",
       "8050                           ['never been diagnosed']  0.000000   \n",
       "\n",
       "     Polarity_cat  len_tweet  word_count_tweet  \\\n",
       "0         Neutral      117.0              14.0   \n",
       "1         Neutral       43.0               6.0   \n",
       "2        Negative       66.0              11.0   \n",
       "3         Neutral       44.0               7.0   \n",
       "4        Negative       84.0              13.0   \n",
       "...           ...        ...               ...   \n",
       "8046      Neutral        0.0               1.0   \n",
       "8047      Neutral        0.0               1.0   \n",
       "8048     Positive       69.0              10.0   \n",
       "8049      Neutral       66.0               6.0   \n",
       "8050      Neutral       42.0               8.0   \n",
       "\n",
       "                                                 label2         label3  \\\n",
       "0                                      'diagnosed with'      diagnosed   \n",
       "1            'diagnosed with', 'diagnosed with bipolar'      diagnosed   \n",
       "2     'got diagnosed', 'diagnosed with', 'diagnosed ...      diagnosed   \n",
       "3                                      'diagnosed with'      diagnosed   \n",
       "4                                      'diagnosed with'      diagnosed   \n",
       "...                                                 ...            ...   \n",
       "8046                             'never been diagnosed'  not diagnosed   \n",
       "8047                             'never been diagnosed'  not diagnosed   \n",
       "8048                             'never been diagnosed'  not diagnosed   \n",
       "8049                             'never been diagnosed'  not diagnosed   \n",
       "8050                             'never been diagnosed'  not diagnosed   \n",
       "\n",
       "      encoded label  \n",
       "0                 1  \n",
       "1                 1  \n",
       "2                 1  \n",
       "3                 1  \n",
       "4                 1  \n",
       "...             ...  \n",
       "8046              0  \n",
       "8047              0  \n",
       "8048              0  \n",
       "8049              0  \n",
       "8050              0  \n",
       "\n",
       "[8051 rows x 15 columns]"
      ]
     },
     "execution_count": 19,
     "metadata": {},
     "output_type": "execute_result"
    }
   ],
   "source": [
    "enco_labs = {'not diagnosed': 0, 'diagnosed': 1}\n",
    "df['encoded label'] = df['label3']\n",
    "df = df.replace({'encoded label':enco_labs})\n",
    "df"
   ]
  },
  {
   "cell_type": "code",
   "execution_count": null,
   "id": "c7edec8b",
   "metadata": {},
   "outputs": [],
   "source": []
  },
  {
   "cell_type": "markdown",
   "id": "efb30c02",
   "metadata": {},
   "source": [
    "# Multinomial Naive Bayes Model"
   ]
  },
  {
   "cell_type": "code",
   "execution_count": 79,
   "id": "5f4e441a",
   "metadata": {},
   "outputs": [
    {
     "name": "stdout",
     "output_type": "stream",
     "text": [
      "[1 1 1 1 1 1 1 1 1 1]\n"
     ]
    },
    {
     "data": {
      "text/plain": [
       "1515    1\n",
       "5841    0\n",
       "276     1\n",
       "5304    0\n",
       "2378    1\n",
       "629     1\n",
       "2891    1\n",
       "7111    1\n",
       "4824    0\n",
       "989     1\n",
       "Name: encoded label, dtype: int64"
      ]
     },
     "execution_count": 79,
     "metadata": {},
     "output_type": "execute_result"
    }
   ],
   "source": [
    "from sklearn.naive_bayes import MultinomialNB\n",
    "from sklearn.model_selection import train_test_split\n",
    "from sklearn.metrics import precision_recall_fscore_support\n",
    "from sklearn.metrics import classification_report\n",
    "\n",
    "X_train, X_test, y_train, y_test = train_test_split(dtm, df['encoded label'], test_size = 0.2, random_state = 0)\n",
    "nb_clf = MultinomialNB().fit(X_train, y_train)\n",
    "\n",
    "predicted = nb_clf.predict(X_test)\n",
    "print(predicted[0:10])\n",
    "y_test[0:10]"
   ]
  },
  {
   "cell_type": "markdown",
   "id": "350ca881",
   "metadata": {},
   "source": [
    "### Classification Report"
   ]
  },
  {
   "cell_type": "code",
   "execution_count": 80,
   "id": "cc5fd4ef",
   "metadata": {},
   "outputs": [
    {
     "name": "stdout",
     "output_type": "stream",
     "text": [
      "labels:  [0, 1]\n",
      "precision:  [0.82651391 0.735     ]\n",
      "recall:  [0.65584416 0.87395957]\n",
      "f-score:  [0.73135409 0.79847909]\n",
      "support:  [770 841]\n",
      "              precision    recall  f1-score   support\n",
      "\n",
      "           0       0.83      0.66      0.73       770\n",
      "           1       0.73      0.87      0.80       841\n",
      "\n",
      "    accuracy                           0.77      1611\n",
      "   macro avg       0.78      0.76      0.76      1611\n",
      "weighted avg       0.78      0.77      0.77      1611\n",
      "\n"
     ]
    }
   ],
   "source": [
    "labels = sorted(df['encoded label'].unique())\n",
    "precision, recall, fscore, support = precision_recall_fscore_support(y_test, predicted, labels=labels)\n",
    "print(\"labels: \", labels)\n",
    "print(\"precision: \", precision)\n",
    "print(\"recall: \", recall)\n",
    "print(\"f-score: \", fscore)\n",
    "print(\"support: \", support)\n",
    "\n",
    "print(classification_report(y_test, predicted))#, target_names=labels"
   ]
  },
  {
   "cell_type": "markdown",
   "id": "17c5da0a",
   "metadata": {},
   "source": [
    "### Grid Search Parameter Tuning"
   ]
  },
  {
   "cell_type": "code",
   "execution_count": 82,
   "id": "8e01fb61",
   "metadata": {},
   "outputs": [
    {
     "name": "stderr",
     "output_type": "stream",
     "text": [
      "C:\\Users\\skord\\Anaconda3\\lib\\site-packages\\sklearn\\naive_bayes.py:485: UserWarning: alpha too small will result in numeric errors, setting alpha = 1.0e-10\n",
      "  'setting alpha = %.1e' % _ALPHA_MIN)\n",
      "C:\\Users\\skord\\Anaconda3\\lib\\site-packages\\sklearn\\naive_bayes.py:485: UserWarning: alpha too small will result in numeric errors, setting alpha = 1.0e-10\n",
      "  'setting alpha = %.1e' % _ALPHA_MIN)\n",
      "C:\\Users\\skord\\Anaconda3\\lib\\site-packages\\sklearn\\naive_bayes.py:485: UserWarning: alpha too small will result in numeric errors, setting alpha = 1.0e-10\n",
      "  'setting alpha = %.1e' % _ALPHA_MIN)\n",
      "C:\\Users\\skord\\Anaconda3\\lib\\site-packages\\sklearn\\naive_bayes.py:485: UserWarning: alpha too small will result in numeric errors, setting alpha = 1.0e-10\n",
      "  'setting alpha = %.1e' % _ALPHA_MIN)\n",
      "C:\\Users\\skord\\Anaconda3\\lib\\site-packages\\sklearn\\naive_bayes.py:485: UserWarning: alpha too small will result in numeric errors, setting alpha = 1.0e-10\n",
      "  'setting alpha = %.1e' % _ALPHA_MIN)\n",
      "C:\\Users\\skord\\Anaconda3\\lib\\site-packages\\sklearn\\naive_bayes.py:485: UserWarning: alpha too small will result in numeric errors, setting alpha = 1.0e-10\n",
      "  'setting alpha = %.1e' % _ALPHA_MIN)\n",
      "C:\\Users\\skord\\Anaconda3\\lib\\site-packages\\sklearn\\naive_bayes.py:485: UserWarning: alpha too small will result in numeric errors, setting alpha = 1.0e-10\n",
      "  'setting alpha = %.1e' % _ALPHA_MIN)\n",
      "C:\\Users\\skord\\Anaconda3\\lib\\site-packages\\sklearn\\naive_bayes.py:485: UserWarning: alpha too small will result in numeric errors, setting alpha = 1.0e-10\n",
      "  'setting alpha = %.1e' % _ALPHA_MIN)\n",
      "C:\\Users\\skord\\Anaconda3\\lib\\site-packages\\sklearn\\naive_bayes.py:485: UserWarning: alpha too small will result in numeric errors, setting alpha = 1.0e-10\n",
      "  'setting alpha = %.1e' % _ALPHA_MIN)\n",
      "C:\\Users\\skord\\Anaconda3\\lib\\site-packages\\sklearn\\naive_bayes.py:485: UserWarning: alpha too small will result in numeric errors, setting alpha = 1.0e-10\n",
      "  'setting alpha = %.1e' % _ALPHA_MIN)\n",
      "C:\\Users\\skord\\Anaconda3\\lib\\site-packages\\sklearn\\naive_bayes.py:485: UserWarning: alpha too small will result in numeric errors, setting alpha = 1.0e-10\n",
      "  'setting alpha = %.1e' % _ALPHA_MIN)\n",
      "C:\\Users\\skord\\Anaconda3\\lib\\site-packages\\sklearn\\naive_bayes.py:485: UserWarning: alpha too small will result in numeric errors, setting alpha = 1.0e-10\n",
      "  'setting alpha = %.1e' % _ALPHA_MIN)\n",
      "C:\\Users\\skord\\Anaconda3\\lib\\site-packages\\sklearn\\naive_bayes.py:485: UserWarning: alpha too small will result in numeric errors, setting alpha = 1.0e-10\n",
      "  'setting alpha = %.1e' % _ALPHA_MIN)\n",
      "C:\\Users\\skord\\Anaconda3\\lib\\site-packages\\sklearn\\naive_bayes.py:485: UserWarning: alpha too small will result in numeric errors, setting alpha = 1.0e-10\n",
      "  'setting alpha = %.1e' % _ALPHA_MIN)\n",
      "C:\\Users\\skord\\Anaconda3\\lib\\site-packages\\sklearn\\naive_bayes.py:485: UserWarning: alpha too small will result in numeric errors, setting alpha = 1.0e-10\n",
      "  'setting alpha = %.1e' % _ALPHA_MIN)\n",
      "C:\\Users\\skord\\Anaconda3\\lib\\site-packages\\sklearn\\naive_bayes.py:485: UserWarning: alpha too small will result in numeric errors, setting alpha = 1.0e-10\n",
      "  'setting alpha = %.1e' % _ALPHA_MIN)\n",
      "C:\\Users\\skord\\Anaconda3\\lib\\site-packages\\sklearn\\naive_bayes.py:485: UserWarning: alpha too small will result in numeric errors, setting alpha = 1.0e-10\n",
      "  'setting alpha = %.1e' % _ALPHA_MIN)\n",
      "C:\\Users\\skord\\Anaconda3\\lib\\site-packages\\sklearn\\naive_bayes.py:485: UserWarning: alpha too small will result in numeric errors, setting alpha = 1.0e-10\n",
      "  'setting alpha = %.1e' % _ALPHA_MIN)\n",
      "C:\\Users\\skord\\Anaconda3\\lib\\site-packages\\sklearn\\naive_bayes.py:485: UserWarning: alpha too small will result in numeric errors, setting alpha = 1.0e-10\n",
      "  'setting alpha = %.1e' % _ALPHA_MIN)\n",
      "C:\\Users\\skord\\Anaconda3\\lib\\site-packages\\sklearn\\naive_bayes.py:485: UserWarning: alpha too small will result in numeric errors, setting alpha = 1.0e-10\n",
      "  'setting alpha = %.1e' % _ALPHA_MIN)\n",
      "C:\\Users\\skord\\Anaconda3\\lib\\site-packages\\sklearn\\naive_bayes.py:485: UserWarning: alpha too small will result in numeric errors, setting alpha = 1.0e-10\n",
      "  'setting alpha = %.1e' % _ALPHA_MIN)\n",
      "C:\\Users\\skord\\Anaconda3\\lib\\site-packages\\sklearn\\naive_bayes.py:485: UserWarning: alpha too small will result in numeric errors, setting alpha = 1.0e-10\n",
      "  'setting alpha = %.1e' % _ALPHA_MIN)\n",
      "C:\\Users\\skord\\Anaconda3\\lib\\site-packages\\sklearn\\naive_bayes.py:485: UserWarning: alpha too small will result in numeric errors, setting alpha = 1.0e-10\n",
      "  'setting alpha = %.1e' % _ALPHA_MIN)\n",
      "C:\\Users\\skord\\Anaconda3\\lib\\site-packages\\sklearn\\naive_bayes.py:485: UserWarning: alpha too small will result in numeric errors, setting alpha = 1.0e-10\n",
      "  'setting alpha = %.1e' % _ALPHA_MIN)\n",
      "C:\\Users\\skord\\Anaconda3\\lib\\site-packages\\sklearn\\naive_bayes.py:485: UserWarning: alpha too small will result in numeric errors, setting alpha = 1.0e-10\n",
      "  'setting alpha = %.1e' % _ALPHA_MIN)\n",
      "C:\\Users\\skord\\Anaconda3\\lib\\site-packages\\sklearn\\naive_bayes.py:485: UserWarning: alpha too small will result in numeric errors, setting alpha = 1.0e-10\n",
      "  'setting alpha = %.1e' % _ALPHA_MIN)\n",
      "C:\\Users\\skord\\Anaconda3\\lib\\site-packages\\sklearn\\naive_bayes.py:485: UserWarning: alpha too small will result in numeric errors, setting alpha = 1.0e-10\n",
      "  'setting alpha = %.1e' % _ALPHA_MIN)\n",
      "C:\\Users\\skord\\Anaconda3\\lib\\site-packages\\sklearn\\naive_bayes.py:485: UserWarning: alpha too small will result in numeric errors, setting alpha = 1.0e-10\n",
      "  'setting alpha = %.1e' % _ALPHA_MIN)\n",
      "C:\\Users\\skord\\Anaconda3\\lib\\site-packages\\sklearn\\naive_bayes.py:485: UserWarning: alpha too small will result in numeric errors, setting alpha = 1.0e-10\n",
      "  'setting alpha = %.1e' % _ALPHA_MIN)\n",
      "C:\\Users\\skord\\Anaconda3\\lib\\site-packages\\sklearn\\naive_bayes.py:485: UserWarning: alpha too small will result in numeric errors, setting alpha = 1.0e-10\n",
      "  'setting alpha = %.1e' % _ALPHA_MIN)\n",
      "C:\\Users\\skord\\Anaconda3\\lib\\site-packages\\sklearn\\naive_bayes.py:485: UserWarning: alpha too small will result in numeric errors, setting alpha = 1.0e-10\n",
      "  'setting alpha = %.1e' % _ALPHA_MIN)\n",
      "C:\\Users\\skord\\Anaconda3\\lib\\site-packages\\sklearn\\naive_bayes.py:485: UserWarning: alpha too small will result in numeric errors, setting alpha = 1.0e-10\n",
      "  'setting alpha = %.1e' % _ALPHA_MIN)\n",
      "C:\\Users\\skord\\Anaconda3\\lib\\site-packages\\sklearn\\naive_bayes.py:485: UserWarning: alpha too small will result in numeric errors, setting alpha = 1.0e-10\n",
      "  'setting alpha = %.1e' % _ALPHA_MIN)\n",
      "C:\\Users\\skord\\Anaconda3\\lib\\site-packages\\sklearn\\naive_bayes.py:485: UserWarning: alpha too small will result in numeric errors, setting alpha = 1.0e-10\n",
      "  'setting alpha = %.1e' % _ALPHA_MIN)\n",
      "C:\\Users\\skord\\Anaconda3\\lib\\site-packages\\sklearn\\naive_bayes.py:485: UserWarning: alpha too small will result in numeric errors, setting alpha = 1.0e-10\n",
      "  'setting alpha = %.1e' % _ALPHA_MIN)\n",
      "C:\\Users\\skord\\Anaconda3\\lib\\site-packages\\sklearn\\naive_bayes.py:485: UserWarning: alpha too small will result in numeric errors, setting alpha = 1.0e-10\n",
      "  'setting alpha = %.1e' % _ALPHA_MIN)\n",
      "C:\\Users\\skord\\Anaconda3\\lib\\site-packages\\sklearn\\naive_bayes.py:485: UserWarning: alpha too small will result in numeric errors, setting alpha = 1.0e-10\n",
      "  'setting alpha = %.1e' % _ALPHA_MIN)\n",
      "C:\\Users\\skord\\Anaconda3\\lib\\site-packages\\sklearn\\naive_bayes.py:485: UserWarning: alpha too small will result in numeric errors, setting alpha = 1.0e-10\n",
      "  'setting alpha = %.1e' % _ALPHA_MIN)\n",
      "C:\\Users\\skord\\Anaconda3\\lib\\site-packages\\sklearn\\naive_bayes.py:485: UserWarning: alpha too small will result in numeric errors, setting alpha = 1.0e-10\n",
      "  'setting alpha = %.1e' % _ALPHA_MIN)\n",
      "C:\\Users\\skord\\Anaconda3\\lib\\site-packages\\sklearn\\naive_bayes.py:485: UserWarning: alpha too small will result in numeric errors, setting alpha = 1.0e-10\n",
      "  'setting alpha = %.1e' % _ALPHA_MIN)\n",
      "C:\\Users\\skord\\Anaconda3\\lib\\site-packages\\sklearn\\naive_bayes.py:485: UserWarning: alpha too small will result in numeric errors, setting alpha = 1.0e-10\n",
      "  'setting alpha = %.1e' % _ALPHA_MIN)\n",
      "C:\\Users\\skord\\Anaconda3\\lib\\site-packages\\sklearn\\naive_bayes.py:485: UserWarning: alpha too small will result in numeric errors, setting alpha = 1.0e-10\n",
      "  'setting alpha = %.1e' % _ALPHA_MIN)\n",
      "C:\\Users\\skord\\Anaconda3\\lib\\site-packages\\sklearn\\naive_bayes.py:485: UserWarning: alpha too small will result in numeric errors, setting alpha = 1.0e-10\n",
      "  'setting alpha = %.1e' % _ALPHA_MIN)\n"
     ]
    },
    {
     "name": "stderr",
     "output_type": "stream",
     "text": [
      "C:\\Users\\skord\\Anaconda3\\lib\\site-packages\\sklearn\\naive_bayes.py:485: UserWarning: alpha too small will result in numeric errors, setting alpha = 1.0e-10\n",
      "  'setting alpha = %.1e' % _ALPHA_MIN)\n",
      "C:\\Users\\skord\\Anaconda3\\lib\\site-packages\\sklearn\\naive_bayes.py:485: UserWarning: alpha too small will result in numeric errors, setting alpha = 1.0e-10\n",
      "  'setting alpha = %.1e' % _ALPHA_MIN)\n",
      "C:\\Users\\skord\\Anaconda3\\lib\\site-packages\\sklearn\\naive_bayes.py:485: UserWarning: alpha too small will result in numeric errors, setting alpha = 1.0e-10\n",
      "  'setting alpha = %.1e' % _ALPHA_MIN)\n",
      "C:\\Users\\skord\\Anaconda3\\lib\\site-packages\\sklearn\\naive_bayes.py:485: UserWarning: alpha too small will result in numeric errors, setting alpha = 1.0e-10\n",
      "  'setting alpha = %.1e' % _ALPHA_MIN)\n",
      "C:\\Users\\skord\\Anaconda3\\lib\\site-packages\\sklearn\\naive_bayes.py:485: UserWarning: alpha too small will result in numeric errors, setting alpha = 1.0e-10\n",
      "  'setting alpha = %.1e' % _ALPHA_MIN)\n",
      "C:\\Users\\skord\\Anaconda3\\lib\\site-packages\\sklearn\\naive_bayes.py:485: UserWarning: alpha too small will result in numeric errors, setting alpha = 1.0e-10\n",
      "  'setting alpha = %.1e' % _ALPHA_MIN)\n",
      "C:\\Users\\skord\\Anaconda3\\lib\\site-packages\\sklearn\\naive_bayes.py:485: UserWarning: alpha too small will result in numeric errors, setting alpha = 1.0e-10\n",
      "  'setting alpha = %.1e' % _ALPHA_MIN)\n"
     ]
    }
   ],
   "source": [
    "# grid search parameter tuning\n",
    "\n",
    "from sklearn.pipeline import Pipeline\n",
    "from sklearn.model_selection import GridSearchCV\n",
    "from sklearn.metrics import make_scorer, fbeta_score\n",
    "\n",
    "text_clf = Pipeline([('tfidf', TfidfVectorizer()), ('nb_clf', MultinomialNB())])\n",
    "params = {'tfidf__min_df':[1, 2, 5, 10, 15], 'tfidf__stop_words': [None, 'english'], 'nb_clf__alpha': [0, 0.5, 1.0, 1.5, 2.0],}\n",
    "metric = make_scorer(fbeta_score, beta=2)\n",
    "gs_clf = GridSearchCV(text_clf, param_grid = params, scoring = metric, cv = 5)\n",
    "gs_clf = gs_clf.fit(df[\"tweet\"].values.astype('U'), df[\"encoded label\"])"
   ]
  },
  {
   "cell_type": "code",
   "execution_count": 83,
   "id": "e85d568d",
   "metadata": {},
   "outputs": [
    {
     "name": "stdout",
     "output_type": "stream",
     "text": [
      "nb_clf__alpha:\t2.0\n",
      "tfidf__min_df:\t1\n",
      "tfidf__stop_words:\tenglish\n",
      "best f1 score: 0.720\n"
     ]
    }
   ],
   "source": [
    "for param_name in gs_clf.best_params_:\n",
    "    print(\"{0}:\\t{1}\".format(param_name, gs_clf.best_params_[param_name]))\n",
    "print(\"best f1 score: {:.3f}\".format(gs_clf.best_score_))"
   ]
  },
  {
   "cell_type": "markdown",
   "id": "30c69f79",
   "metadata": {},
   "source": [
    "Precision is an evalutation metric that calculates the percentage of correct predictions for the positive class. Recall is an evaluation metric that calculates the percentage of correct predictions for the positive class out of all the positive predictions that could be made. Maximizing precision will effectively minimize the false positives (type-1 errors) whereas maximizing the recall will minimize the false negatives (type-2 errors)."
   ]
  },
  {
   "cell_type": "markdown",
   "id": "b708fd87",
   "metadata": {},
   "source": [
    "In our case, we want to increase the number of bipolar disorder classifications and lower the number of type 2 errors. The F1 score does not help us in this task as it puts an emphasis on maximizing the precision, which in turn, minimizes the false positives. Our main evalution metric is thus the F2 score, which will maximize recall and minimize the false negatives. Based on the F2 score, we can determine the best performing classifier. Given below is the F2 score of our classifier:"
   ]
  },
  {
   "cell_type": "code",
   "execution_count": 84,
   "id": "db2bf938",
   "metadata": {},
   "outputs": [
    {
     "data": {
      "text/plain": [
       "0.8421173235563703"
      ]
     },
     "execution_count": 84,
     "metadata": {},
     "output_type": "execute_result"
    }
   ],
   "source": [
    "fbeta_score(y_test, predicted, beta=2)"
   ]
  },
  {
   "cell_type": "markdown",
   "id": "dbe2cd21",
   "metadata": {},
   "source": [
    "### Best Parameter Implementation"
   ]
  },
  {
   "cell_type": "code",
   "execution_count": 85,
   "id": "39becfb8",
   "metadata": {},
   "outputs": [
    {
     "name": "stdout",
     "output_type": "stream",
     "text": [
      "[1 1 1 0 1 1 1 1 1 1]\n"
     ]
    },
    {
     "data": {
      "text/plain": [
       "1515    1\n",
       "5841    0\n",
       "276     1\n",
       "5304    0\n",
       "2378    1\n",
       "629     1\n",
       "2891    1\n",
       "7111    1\n",
       "4824    0\n",
       "989     1\n",
       "Name: encoded label, dtype: int64"
      ]
     },
     "execution_count": 85,
     "metadata": {},
     "output_type": "execute_result"
    }
   ],
   "source": [
    "from sklearn.naive_bayes import MultinomialNB\n",
    "from sklearn.model_selection import train_test_split\n",
    "from sklearn.metrics import precision_recall_fscore_support\n",
    "from sklearn.metrics import classification_report\n",
    "\n",
    "X_train, X_test, y_train, y_test = train_test_split(dtm, df['encoded label'], test_size = 0.2, random_state = 0)\n",
    "nb_clf = MultinomialNB(alpha = 2.0).fit(X_train, y_train)\n",
    "\n",
    "predicted = nb_clf.predict(X_test)\n",
    "print(predicted[0:10])\n",
    "y_test[0:10]"
   ]
  },
  {
   "cell_type": "code",
   "execution_count": 86,
   "id": "98268d1c",
   "metadata": {},
   "outputs": [
    {
     "name": "stdout",
     "output_type": "stream",
     "text": [
      "labels:  [0, 1]\n",
      "precision:  [0.83333333 0.72629521]\n",
      "recall:  [0.63636364 0.88347206]\n",
      "f-score:  [0.72164948 0.7972103 ]\n",
      "support:  [770 841]\n",
      "              precision    recall  f1-score   support\n",
      "\n",
      "           0       0.83      0.64      0.72       770\n",
      "           1       0.73      0.88      0.80       841\n",
      "\n",
      "    accuracy                           0.77      1611\n",
      "   macro avg       0.78      0.76      0.76      1611\n",
      "weighted avg       0.78      0.77      0.76      1611\n",
      "\n"
     ]
    }
   ],
   "source": [
    "labels = sorted(df['encoded label'].unique())\n",
    "precision, recall, fscore, support = precision_recall_fscore_support(y_test, predicted, labels=labels)\n",
    "print(\"labels: \", labels)\n",
    "print(\"precision: \", precision)\n",
    "print(\"recall: \", recall)\n",
    "print(\"f-score: \", fscore)\n",
    "print(\"support: \", support)\n",
    "\n",
    "print(classification_report(y_test, predicted))#, target_names=labels"
   ]
  },
  {
   "cell_type": "markdown",
   "id": "64b1b240",
   "metadata": {},
   "source": [
    "### Confusion Matrix"
   ]
  },
  {
   "cell_type": "code",
   "execution_count": 87,
   "id": "a51745e1",
   "metadata": {},
   "outputs": [
    {
     "data": {
      "text/plain": [
       "Text(0.5, 1, 'Confusion Matrix')"
      ]
     },
     "execution_count": 87,
     "metadata": {},
     "output_type": "execute_result"
    },
    {
     "data": {
      "image/png": "[encoded data removed]",
      "text/plain": [
       "<Figure size 720x576 with 2 Axes>"
      ]
     },
     "metadata": {
      "needs_background": "light"
     },
     "output_type": "display_data"
    }
   ],
   "source": [
    "# sns confusion matrix\n",
    "\n",
    "import matplotlib.pyplot as plt\n",
    "from sklearn.metrics import confusion_matrix\n",
    "import seaborn as sns\n",
    "\n",
    "conf_mat = confusion_matrix(y_test, predicted)\n",
    "categories = ['Negative', 'Positive']\n",
    "group_names = ['True Negative', 'False Positive', 'False Negative', 'True Positive']\n",
    "group_percentages = ['{0:.2%}'.format(value) for value in conf_mat.flatten()/np.sum(conf_mat)]\n",
    "labs = [f'{v1}\\n{v2}' for v1, v2 in zip(group_names, group_percentages)]\n",
    "labs = np.asarray(labs).reshape(2, 2)\n",
    "plt.figure(figsize=(10,8))\n",
    "ax = sns.heatmap(conf_mat, annot = labs, cmap = 'Blues', fmt = '', xticklabels = categories, yticklabels = categories)\n",
    "bottom, top = ax.get_ylim()\n",
    "ax.set_ylim(bottom+0.5, top-0.5)\n",
    "plt.xlabel(\"Predicted values\", fontdict = {'size':14}, labelpad = 10)\n",
    "plt.ylabel(\"Actual values\", fontdict = {'size':14}, labelpad = 10)\n",
    "plt.title(\"Confusion Matrix\", fontdict = {'size':18}, pad = 20)"
   ]
  },
  {
   "cell_type": "code",
   "execution_count": 88,
   "id": "194ad674",
   "metadata": {},
   "outputs": [
    {
     "name": "stdout",
     "output_type": "stream",
     "text": [
      "[[490 280]\n",
      " [ 98 743]]\n"
     ]
    }
   ],
   "source": [
    "print(confusion_matrix(y_test, predicted))"
   ]
  },
  {
   "cell_type": "markdown",
   "id": "dda3791d",
   "metadata": {},
   "source": [
    "### AUC Plot"
   ]
  },
  {
   "cell_type": "code",
   "execution_count": 89,
   "id": "6b9cc8bc",
   "metadata": {},
   "outputs": [
    {
     "name": "stdout",
     "output_type": "stream",
     "text": [
      "AUC: 86.902883%\n"
     ]
    }
   ],
   "source": [
    "# AUC\n",
    "\n",
    "from sklearn.metrics import roc_curve, auc,precision_recall_curve\n",
    "import numpy as np\n",
    "\n",
    "pred_prob = nb_clf.predict_proba(X_test)\n",
    "labels\n",
    "pred_prob[0:3]\n",
    "y_test[0:3]\n",
    "\n",
    "binary_y = np.where(y_test, 1, 0)\n",
    "y_pred = pred_prob[:,1]\n",
    "\n",
    "fpr, tpr, thresholds = roc_curve(binary_y, y_pred, pos_label = 1)\n",
    "\n",
    "print(\"AUC: {:2%}\".format(auc(fpr, tpr)))"
   ]
  },
  {
   "cell_type": "code",
   "execution_count": 90,
   "id": "d05a8067",
   "metadata": {},
   "outputs": [
    {
     "data": {
      "image/png": "[encoded data removed]",
      "text/plain": [
       "<Figure size 432x288 with 1 Axes>"
      ]
     },
     "metadata": {
      "needs_background": "light"
     },
     "output_type": "display_data"
    }
   ],
   "source": [
    "from matplotlib import pyplot as plt\n",
    "plt.figure();\n",
    "plt.plot(fpr, tpr, color='darkorange', lw=2);\n",
    "plt.plot([0, 1], [0, 1], color='navy', lw=2, linestyle='--');\n",
    "plt.xlim([0.0, 1.0]);\n",
    "plt.ylim([0.0, 1.05]);\n",
    "plt.xlabel('False Positive Rate');\n",
    "plt.ylabel('True Positive Rate');\n",
    "plt.title('AUC of Naive Bayes Model');\n",
    "plt.show();"
   ]
  },
  {
   "cell_type": "markdown",
   "id": "d5967a2d",
   "metadata": {},
   "source": [
    "### Precision-Recall Plot"
   ]
  },
  {
   "cell_type": "code",
   "execution_count": 91,
   "id": "473d9bef",
   "metadata": {},
   "outputs": [
    {
     "data": {
      "image/png": "[encoded data removed]",
      "text/plain": [
       "<Figure size 432x288 with 1 Axes>"
      ]
     },
     "metadata": {
      "needs_background": "light"
     },
     "output_type": "display_data"
    },
    {
     "name": "stdout",
     "output_type": "stream",
     "text": [
      "Average Precision: 87.48%\n"
     ]
    }
   ],
   "source": [
    "# precision recall curve\n",
    "\n",
    "precision, recall, thresholds = precision_recall_curve(binary_y, y_pred, pos_label=1)\n",
    "\n",
    "plt.figure();\n",
    "plt.plot(recall, precision, color='darkorange', lw=2);\n",
    "plt.xlim([0.0, 1.0]);\n",
    "plt.ylim([0.0, 1.05]);\n",
    "plt.xlabel('Recall');\n",
    "plt.ylabel('Precision');\n",
    "plt.title('Precision_Recall_Curve of Naive Bayes Model');\n",
    "plt.show();\n",
    "\n",
    "print(\"Average Precision: {:.2%}\".format(auc(recall, precision)))"
   ]
  },
  {
   "cell_type": "code",
   "execution_count": null,
   "id": "7fc4c7df",
   "metadata": {},
   "outputs": [],
   "source": []
  },
  {
   "cell_type": "markdown",
   "id": "f97032d8",
   "metadata": {},
   "source": [
    "# Linear SVM Model"
   ]
  },
  {
   "cell_type": "code",
   "execution_count": 71,
   "id": "0e6c671e",
   "metadata": {},
   "outputs": [
    {
     "name": "stdout",
     "output_type": "stream",
     "text": [
      "[0 1 1 0 0 1 1 1 0 1]\n"
     ]
    },
    {
     "data": {
      "text/plain": [
       "1515    1\n",
       "5841    0\n",
       "276     1\n",
       "5304    0\n",
       "2378    1\n",
       "629     1\n",
       "2891    1\n",
       "7111    1\n",
       "4824    0\n",
       "989     1\n",
       "Name: encoded label, dtype: int64"
      ]
     },
     "execution_count": 71,
     "metadata": {},
     "output_type": "execute_result"
    }
   ],
   "source": [
    "# linear SVC/SVM\n",
    "\n",
    "from sklearn.svm import LinearSVC\n",
    "from sklearn.svm import SVC\n",
    "\n",
    "X_train, X_test, y_train, y_test = train_test_split(dtm, df['encoded label'], test_size = 0.2, random_state = 0)\n",
    "svm_clf = LinearSVC().fit(X_train, y_train)\n",
    "\n",
    "predicted = svm_clf.predict(X_test)\n",
    "print(predicted[0:10])\n",
    "y_test[0:10]"
   ]
  },
  {
   "cell_type": "markdown",
   "id": "827f267b",
   "metadata": {},
   "source": [
    "### Classification Report"
   ]
  },
  {
   "cell_type": "code",
   "execution_count": 72,
   "id": "20a2df7d",
   "metadata": {},
   "outputs": [
    {
     "name": "stdout",
     "output_type": "stream",
     "text": [
      "labels:  [0, 1]\n",
      "precision:  [0.79354839 0.8145933 ]\n",
      "recall:  [0.7987013 0.8097503]\n",
      "f-score:  [0.7961165  0.81216458]\n",
      "support:  [770 841]\n",
      "              precision    recall  f1-score   support\n",
      "\n",
      "           0       0.79      0.80      0.80       770\n",
      "           1       0.81      0.81      0.81       841\n",
      "\n",
      "    accuracy                           0.80      1611\n",
      "   macro avg       0.80      0.80      0.80      1611\n",
      "weighted avg       0.80      0.80      0.80      1611\n",
      "\n"
     ]
    }
   ],
   "source": [
    "labels = sorted(df['encoded label'].unique())\n",
    "precision, recall, fscore, support = precision_recall_fscore_support(y_test, predicted, labels=labels)\n",
    "print(\"labels: \", labels)\n",
    "print(\"precision: \", precision)\n",
    "print(\"recall: \", recall)\n",
    "print(\"f-score: \", fscore)\n",
    "print(\"support: \", support)\n",
    "\n",
    "print(classification_report(y_test, predicted))"
   ]
  },
  {
   "cell_type": "markdown",
   "id": "24c0de22",
   "metadata": {},
   "source": [
    "### Grid Search Parameter Tuning"
   ]
  },
  {
   "cell_type": "code",
   "execution_count": 73,
   "id": "e9c8ce8a",
   "metadata": {},
   "outputs": [
    {
     "name": "stdout",
     "output_type": "stream",
     "text": [
      "Fitting 5 folds for each of 160 candidates, totalling 800 fits\n"
     ]
    },
    {
     "name": "stderr",
     "output_type": "stream",
     "text": [
      "[Parallel(n_jobs=1)]: Using backend SequentialBackend with 1 concurrent workers.\n",
      "C:\\Users\\skord\\Anaconda3\\lib\\site-packages\\sklearn\\svm\\base.py:929: ConvergenceWarning: Liblinear failed to converge, increase the number of iterations.\n",
      "  \"the number of iterations.\", ConvergenceWarning)\n",
      "C:\\Users\\skord\\Anaconda3\\lib\\site-packages\\sklearn\\svm\\base.py:929: ConvergenceWarning: Liblinear failed to converge, increase the number of iterations.\n",
      "  \"the number of iterations.\", ConvergenceWarning)\n",
      "C:\\Users\\skord\\Anaconda3\\lib\\site-packages\\sklearn\\svm\\base.py:929: ConvergenceWarning: Liblinear failed to converge, increase the number of iterations.\n",
      "  \"the number of iterations.\", ConvergenceWarning)\n",
      "C:\\Users\\skord\\Anaconda3\\lib\\site-packages\\sklearn\\svm\\base.py:929: ConvergenceWarning: Liblinear failed to converge, increase the number of iterations.\n",
      "  \"the number of iterations.\", ConvergenceWarning)\n",
      "C:\\Users\\skord\\Anaconda3\\lib\\site-packages\\sklearn\\svm\\base.py:929: ConvergenceWarning: Liblinear failed to converge, increase the number of iterations.\n",
      "  \"the number of iterations.\", ConvergenceWarning)\n",
      "C:\\Users\\skord\\Anaconda3\\lib\\site-packages\\sklearn\\svm\\base.py:929: ConvergenceWarning: Liblinear failed to converge, increase the number of iterations.\n",
      "  \"the number of iterations.\", ConvergenceWarning)\n",
      "C:\\Users\\skord\\Anaconda3\\lib\\site-packages\\sklearn\\svm\\base.py:929: ConvergenceWarning: Liblinear failed to converge, increase the number of iterations.\n",
      "  \"the number of iterations.\", ConvergenceWarning)\n",
      "C:\\Users\\skord\\Anaconda3\\lib\\site-packages\\sklearn\\svm\\base.py:929: ConvergenceWarning: Liblinear failed to converge, increase the number of iterations.\n",
      "  \"the number of iterations.\", ConvergenceWarning)\n",
      "C:\\Users\\skord\\Anaconda3\\lib\\site-packages\\sklearn\\svm\\base.py:929: ConvergenceWarning: Liblinear failed to converge, increase the number of iterations.\n",
      "  \"the number of iterations.\", ConvergenceWarning)\n",
      "C:\\Users\\skord\\Anaconda3\\lib\\site-packages\\sklearn\\svm\\base.py:929: ConvergenceWarning: Liblinear failed to converge, increase the number of iterations.\n",
      "  \"the number of iterations.\", ConvergenceWarning)\n",
      "C:\\Users\\skord\\Anaconda3\\lib\\site-packages\\sklearn\\svm\\base.py:929: ConvergenceWarning: Liblinear failed to converge, increase the number of iterations.\n",
      "  \"the number of iterations.\", ConvergenceWarning)\n",
      "C:\\Users\\skord\\Anaconda3\\lib\\site-packages\\sklearn\\svm\\base.py:929: ConvergenceWarning: Liblinear failed to converge, increase the number of iterations.\n",
      "  \"the number of iterations.\", ConvergenceWarning)\n",
      "C:\\Users\\skord\\Anaconda3\\lib\\site-packages\\sklearn\\svm\\base.py:929: ConvergenceWarning: Liblinear failed to converge, increase the number of iterations.\n",
      "  \"the number of iterations.\", ConvergenceWarning)\n",
      "C:\\Users\\skord\\Anaconda3\\lib\\site-packages\\sklearn\\svm\\base.py:929: ConvergenceWarning: Liblinear failed to converge, increase the number of iterations.\n",
      "  \"the number of iterations.\", ConvergenceWarning)\n",
      "C:\\Users\\skord\\Anaconda3\\lib\\site-packages\\sklearn\\svm\\base.py:929: ConvergenceWarning: Liblinear failed to converge, increase the number of iterations.\n",
      "  \"the number of iterations.\", ConvergenceWarning)\n",
      "[Parallel(n_jobs=1)]: Done 800 out of 800 | elapsed:  2.4min finished\n"
     ]
    }
   ],
   "source": [
    "# grid search parameter tuning\n",
    "\n",
    "from sklearn.pipeline import Pipeline\n",
    "from sklearn.model_selection import GridSearchCV\n",
    "from sklearn.metrics import make_scorer, fbeta_score\n",
    "\n",
    "#f2_scorer = make_scorer(fbeta_score, beta=2)\n",
    "#f2_scorer\n",
    "\n",
    "text_clf = Pipeline([('tfidf', TfidfVectorizer()), ('svm_clf', LinearSVC())])\n",
    "params = {'tfidf__min_df':[1, 2, 5, 10, 15], 'tfidf__stop_words': [None, 'english'], 'svm_clf__penalty': ['l2'], 'svm_clf__C': [0.25, 0.5, 0.75, 1.0, 1.25, 1.5, 1.75, 2.0], 'svm_clf__loss': ['hinge', 'squared_hinge'],}\n",
    "metric = make_scorer(fbeta_score, beta=2)\n",
    "gs_clf = GridSearchCV(text_clf, param_grid = params, scoring = metric, cv = 5, verbose = 1)\n",
    "gs_clf = gs_clf.fit(df[\"tweet\"].values.astype('U'), df[\"encoded label\"])"
   ]
  },
  {
   "cell_type": "code",
   "execution_count": 74,
   "id": "4d813fa1",
   "metadata": {},
   "outputs": [
    {
     "name": "stdout",
     "output_type": "stream",
     "text": [
      "svm_clf__C:\t0.25\n",
      "svm_clf__loss:\thinge\n",
      "svm_clf__penalty:\tl2\n",
      "tfidf__min_df:\t10\n",
      "tfidf__stop_words:\tNone\n",
      "best f1 score: 0.708\n"
     ]
    }
   ],
   "source": [
    "for param_name in gs_clf.best_params_:\n",
    "    print(\"{0}:\\t{1}\".format(param_name, gs_clf.best_params_[param_name]))\n",
    "print(\"best f1 score: {:.3f}\".format(gs_clf.best_score_))"
   ]
  },
  {
   "cell_type": "code",
   "execution_count": 75,
   "id": "15b79d80",
   "metadata": {},
   "outputs": [
    {
     "data": {
      "text/plain": [
       "0.8107142857142856"
      ]
     },
     "execution_count": 75,
     "metadata": {},
     "output_type": "execute_result"
    }
   ],
   "source": [
    "fbeta_score(y_test, predicted, beta=2)"
   ]
  },
  {
   "cell_type": "markdown",
   "id": "68c20a77",
   "metadata": {},
   "source": [
    "### Best Parameters Implementation"
   ]
  },
  {
   "cell_type": "code",
   "execution_count": null,
   "id": "295bab23",
   "metadata": {},
   "outputs": [],
   "source": [
    "# linear SVC/SVM\n",
    "\n",
    "from sklearn.svm import LinearSVC\n",
    "from sklearn.svm import SVC\n",
    "\n",
    "X_train, X_test, y_train, y_test = train_test_split(dtm, df['encoded label'], test_size = 0.2, random_state = 0)\n",
    "svm_clf = LinearSVC().fit(X_train, y_train)\n",
    "\n",
    "predicted = svm_clf.predict(X_test)\n",
    "print(predicted[0:10])\n",
    "y_test[0:10]"
   ]
  },
  {
   "cell_type": "code",
   "execution_count": 76,
   "id": "5041cfef",
   "metadata": {},
   "outputs": [
    {
     "name": "stdout",
     "output_type": "stream",
     "text": [
      "labels:  [0, 1]\n",
      "precision:  [0.79354839 0.8145933 ]\n",
      "recall:  [0.7987013 0.8097503]\n",
      "f-score:  [0.7961165  0.81216458]\n",
      "support:  [770 841]\n",
      "              precision    recall  f1-score   support\n",
      "\n",
      "           0       0.79      0.80      0.80       770\n",
      "           1       0.81      0.81      0.81       841\n",
      "\n",
      "    accuracy                           0.80      1611\n",
      "   macro avg       0.80      0.80      0.80      1611\n",
      "weighted avg       0.80      0.80      0.80      1611\n",
      "\n"
     ]
    }
   ],
   "source": [
    "labels = sorted(df['encoded label'].unique())\n",
    "precision, recall, fscore, support = precision_recall_fscore_support(y_test, predicted, labels=labels)\n",
    "print(\"labels: \", labels)\n",
    "print(\"precision: \", precision)\n",
    "print(\"recall: \", recall)\n",
    "print(\"f-score: \", fscore)\n",
    "print(\"support: \", support)\n",
    "\n",
    "print(classification_report(y_test, predicted))"
   ]
  },
  {
   "cell_type": "markdown",
   "id": "43423b3e",
   "metadata": {},
   "source": [
    "### Confusion Matrix"
   ]
  },
  {
   "cell_type": "code",
   "execution_count": 77,
   "id": "bf368877",
   "metadata": {},
   "outputs": [
    {
     "data": {
      "text/plain": [
       "Text(0.5, 1, 'Confusion Matrix')"
      ]
     },
     "execution_count": 77,
     "metadata": {},
     "output_type": "execute_result"
    },
    {
     "data": {
      "image/png": "[encoded data removed]",
      "text/plain": [
       "<Figure size 720x576 with 2 Axes>"
      ]
     },
     "metadata": {
      "needs_background": "light"
     },
     "output_type": "display_data"
    }
   ],
   "source": [
    "import matplotlib.pyplot as plt\n",
    "from sklearn.metrics import confusion_matrix\n",
    "import seaborn as sns\n",
    "\n",
    "conf_mat = confusion_matrix(y_test, predicted)\n",
    "categories = ['Negative', 'Positive']\n",
    "group_names = ['True Negative', 'False Positive', 'False Negative', 'True Positive']\n",
    "group_percentages = ['{0:.2%}'.format(value) for value in conf_mat.flatten()/np.sum(conf_mat)]\n",
    "labs = [f'{v1}\\n{v2}' for v1, v2 in zip(group_names, group_percentages)]\n",
    "labs = np.asarray(labs).reshape(2, 2)\n",
    "plt.figure(figsize=(10,8))\n",
    "ax = sns.heatmap(conf_mat, annot = labs, cmap = 'Blues', fmt = '', xticklabels = categories, yticklabels = categories)\n",
    "bottom, top = ax.get_ylim()\n",
    "ax.set_ylim(bottom+0.5, top-0.5)\n",
    "plt.xlabel(\"Predicted values\", fontdict = {'size':14}, labelpad = 10)\n",
    "plt.ylabel(\"Actual values\", fontdict = {'size':14}, labelpad = 10)\n",
    "plt.title(\"Confusion Matrix\", fontdict = {'size':18}, pad = 20)"
   ]
  },
  {
   "cell_type": "code",
   "execution_count": 78,
   "id": "42a56ef2",
   "metadata": {},
   "outputs": [
    {
     "name": "stdout",
     "output_type": "stream",
     "text": [
      "[[615 155]\n",
      " [160 681]]\n"
     ]
    }
   ],
   "source": [
    "print(confusion_matrix(y_test, predicted))"
   ]
  },
  {
   "cell_type": "markdown",
   "id": "751f9847",
   "metadata": {},
   "source": [
    "### AUC Plot"
   ]
  },
  {
   "cell_type": "code",
   "execution_count": 79,
   "id": "8e0b22f3",
   "metadata": {},
   "outputs": [
    {
     "name": "stdout",
     "output_type": "stream",
     "text": [
      "AUC: 74.213907%\n"
     ]
    }
   ],
   "source": [
    "# AUC\n",
    "\n",
    "from sklearn.metrics import roc_curve, auc,precision_recall_curve\n",
    "import numpy as np\n",
    "\n",
    "pred_prob = knn_clf.predict_proba(X_test)\n",
    "labels\n",
    "pred_prob[0:3]\n",
    "y_test[0:3]\n",
    "\n",
    "binary_y = np.where(y_test, 1, 0)\n",
    "y_pred = pred_prob[:,1]\n",
    "\n",
    "fpr, tpr, thresholds = roc_curve(binary_y, y_pred, pos_label = 1)\n",
    "\n",
    "print(\"AUC: {:2%}\".format(auc(fpr, tpr)))"
   ]
  },
  {
   "cell_type": "code",
   "execution_count": 82,
   "id": "ae033e22",
   "metadata": {},
   "outputs": [
    {
     "data": {
      "image/png": "[encoded data removed]",
      "text/plain": [
       "<Figure size 432x288 with 1 Axes>"
      ]
     },
     "metadata": {
      "needs_background": "light"
     },
     "output_type": "display_data"
    }
   ],
   "source": [
    "from matplotlib import pyplot as plt\n",
    "plt.figure();\n",
    "plt.plot(fpr, tpr, color='darkorange', lw=2);\n",
    "plt.plot([0, 1], [0, 1], color='navy', lw=2, linestyle='--');\n",
    "plt.xlim([0.0, 1.0]);\n",
    "plt.ylim([0.0, 1.05]);\n",
    "plt.xlabel('False Positive Rate');\n",
    "plt.ylabel('True Positive Rate');\n",
    "plt.title('AUC of LinearSVC Model');\n",
    "plt.show();"
   ]
  },
  {
   "cell_type": "markdown",
   "id": "11848eb0",
   "metadata": {},
   "source": [
    "### Precision-Recall Plot"
   ]
  },
  {
   "cell_type": "code",
   "execution_count": 83,
   "id": "e4bd0663",
   "metadata": {},
   "outputs": [
    {
     "data": {
      "image/png": "[encoded data removed]",
      "text/plain": [
       "<Figure size 432x288 with 1 Axes>"
      ]
     },
     "metadata": {
      "needs_background": "light"
     },
     "output_type": "display_data"
    },
    {
     "name": "stdout",
     "output_type": "stream",
     "text": [
      "Average Precision: 81.68%\n"
     ]
    }
   ],
   "source": [
    "# precision recall curve\n",
    "\n",
    "precision, recall, thresholds = precision_recall_curve(binary_y, y_pred, pos_label=1)\n",
    "\n",
    "plt.figure();\n",
    "plt.plot(recall, precision, color='darkorange', lw=2);\n",
    "plt.xlim([0.0, 1.0]);\n",
    "plt.ylim([0.0, 1.05]);\n",
    "plt.xlabel('Recall');\n",
    "plt.ylabel('Precision');\n",
    "plt.title('Precision_Recall_Curve of LinearSVC Model');\n",
    "plt.show();\n",
    "\n",
    "print(\"Average Precision: {:.2%}\".format(auc(recall, precision)))"
   ]
  },
  {
   "cell_type": "code",
   "execution_count": null,
   "id": "5fe1ae35",
   "metadata": {},
   "outputs": [],
   "source": []
  },
  {
   "cell_type": "markdown",
   "id": "b57416fe",
   "metadata": {},
   "source": [
    "# Logistic Regression Model"
   ]
  },
  {
   "cell_type": "code",
   "execution_count": 31,
   "id": "1e0a461f",
   "metadata": {},
   "outputs": [
    {
     "name": "stdout",
     "output_type": "stream",
     "text": [
      "[0 1 1 0 0 1 1 1 0 1]\n"
     ]
    },
    {
     "data": {
      "text/plain": [
       "1515    1\n",
       "5841    0\n",
       "276     1\n",
       "5304    0\n",
       "2378    1\n",
       "629     1\n",
       "2891    1\n",
       "7111    1\n",
       "4824    0\n",
       "989     1\n",
       "Name: encoded label, dtype: int64"
      ]
     },
     "execution_count": 31,
     "metadata": {},
     "output_type": "execute_result"
    }
   ],
   "source": [
    "# logistic regression\n",
    "from sklearn.linear_model import LogisticRegression\n",
    "from sklearn.model_selection import train_test_split\n",
    "\n",
    "X_train, X_test, y_train, y_test = train_test_split(dtm, df['encoded label'], test_size = 0.2, random_state = 0)\n",
    "lr_clf = LogisticRegression(C=10, penalty='l2', solver='newton-cg').fit(X_train, y_train)\n",
    "\n",
    "predicted = lr_clf.predict(X_test)\n",
    "print(predicted[0:10])\n",
    "y_test[0:10]"
   ]
  },
  {
   "cell_type": "markdown",
   "id": "ebfb0e62",
   "metadata": {},
   "source": [
    "### Classification Report"
   ]
  },
  {
   "cell_type": "code",
   "execution_count": 32,
   "id": "56a1518d",
   "metadata": {},
   "outputs": [
    {
     "name": "stdout",
     "output_type": "stream",
     "text": [
      "labels:  [0, 1]\n",
      "precision:  [0.7953668 0.8177458]\n",
      "recall:  [0.8025974  0.81093936]\n",
      "f-score:  [0.79896574 0.81432836]\n",
      "support:  [770 841]\n",
      "              precision    recall  f1-score   support\n",
      "\n",
      "           0       0.80      0.80      0.80       770\n",
      "           1       0.82      0.81      0.81       841\n",
      "\n",
      "    accuracy                           0.81      1611\n",
      "   macro avg       0.81      0.81      0.81      1611\n",
      "weighted avg       0.81      0.81      0.81      1611\n",
      "\n"
     ]
    }
   ],
   "source": [
    "from sklearn.metrics import precision_recall_fscore_support\n",
    "from sklearn.metrics import classification_report\n",
    "\n",
    "labels = sorted(df['encoded label'].unique())\n",
    "precision, recall, fscore, support = precision_recall_fscore_support(y_test, predicted, labels=labels)\n",
    "print(\"labels: \", labels)\n",
    "print(\"precision: \", precision)\n",
    "print(\"recall: \", recall)\n",
    "print(\"f-score: \", fscore)\n",
    "print(\"support: \", support)\n",
    "\n",
    "print(classification_report(y_test, predicted))"
   ]
  },
  {
   "cell_type": "markdown",
   "id": "7c58f1d4",
   "metadata": {},
   "source": [
    "### Grid Search Parameter Tuning"
   ]
  },
  {
   "cell_type": "code",
   "execution_count": 56,
   "id": "92cd84d1",
   "metadata": {},
   "outputs": [
    {
     "name": "stdout",
     "output_type": "stream",
     "text": [
      "Fitting 5 folds for each of 320 candidates, totalling 1600 fits\n"
     ]
    },
    {
     "name": "stderr",
     "output_type": "stream",
     "text": [
      "[Parallel(n_jobs=1)]: Using backend SequentialBackend with 1 concurrent workers.\n",
      "[Parallel(n_jobs=1)]: Done 1600 out of 1600 | elapsed:  4.7min finished\n"
     ]
    }
   ],
   "source": [
    "# grid search parameter tuning\n",
    "\n",
    "from sklearn.pipeline import Pipeline\n",
    "from sklearn.model_selection import GridSearchCV\n",
    "from sklearn.metrics import make_scorer, fbeta_score\n",
    "\n",
    "f2_scorer = make_scorer(fbeta_score, beta=2)\n",
    "f2_scorer\n",
    "\n",
    "text_clf = Pipeline([('tfidf', TfidfVectorizer()), ('lr_clf', LogisticRegression())])\n",
    "params = {'tfidf__min_df':[1, 2, 5, 10, 15], 'tfidf__stop_words': [None, 'english'], 'lr_clf__penalty': ['l2'], 'lr_clf__C': [0.25, 0.5, 0.75, 1.0, 1.25, 1.5, 1.75, 2.0], 'lr_clf__solver': ['newton-cg', 'lbfgs', 'sag', 'saga'],}\n",
    "metric = make_scorer(fbeta_score, beta=2)\n",
    "gs_clf = GridSearchCV(text_clf, param_grid = params, scoring = metric, cv = 5, verbose = 1)\n",
    "gs_clf = gs_clf.fit(df[\"tweet\"].values.astype('U'), df[\"encoded label\"])"
   ]
  },
  {
   "cell_type": "code",
   "execution_count": 69,
   "id": "390b67a9",
   "metadata": {
    "scrolled": true
   },
   "outputs": [
    {
     "name": "stdout",
     "output_type": "stream",
     "text": [
      "nb_clf__alpha:\t1.0\n",
      "tfidf__min_df:\t5\n",
      "tfidf__stop_words:\tenglish\n",
      "best f1 score: 0.592\n",
      "best f2 score:  make_scorer(f2_func)\n"
     ]
    }
   ],
   "source": [
    "for param_name in gs_clf.best_params_:\n",
    "    print(\"{0}:\\t{1}\".format(param_name, gs_clf.best_params_[param_name]))\n",
    "print(\"best f1 score: {:.3f}\".format(gs_clf.best_score_))\n",
    "f2 = f2_func(y_test, predicted)\n",
    "print(\"best f2 score: \", my_f2_scorer())"
   ]
  },
  {
   "cell_type": "code",
   "execution_count": 70,
   "id": "7676a35a",
   "metadata": {},
   "outputs": [
    {
     "data": {
      "text/plain": [
       "0.8421173235563703"
      ]
     },
     "execution_count": 70,
     "metadata": {},
     "output_type": "execute_result"
    }
   ],
   "source": [
    "fbeta_score(y_test, predicted, beta=2)"
   ]
  },
  {
   "cell_type": "markdown",
   "id": "9f0e7811",
   "metadata": {},
   "source": [
    "### Best Parameters Implementation"
   ]
  },
  {
   "cell_type": "code",
   "execution_count": 43,
   "id": "b96c8322",
   "metadata": {},
   "outputs": [
    {
     "name": "stdout",
     "output_type": "stream",
     "text": [
      "[0 0 1 0 1 1 1 1 1 1]\n"
     ]
    },
    {
     "data": {
      "text/plain": [
       "1515    1\n",
       "5841    0\n",
       "276     1\n",
       "5304    0\n",
       "2378    1\n",
       "629     1\n",
       "2891    1\n",
       "7111    1\n",
       "4824    0\n",
       "989     1\n",
       "Name: encoded label, dtype: int64"
      ]
     },
     "execution_count": 43,
     "metadata": {},
     "output_type": "execute_result"
    }
   ],
   "source": [
    "# logistic regression\n",
    "from sklearn.linear_model import LogisticRegression\n",
    "from sklearn.model_selection import train_test_split\n",
    "\n",
    "X_train, X_test, y_train, y_test = train_test_split(dtm, df['encoded label'], test_size = 0.2, random_state = 0)\n",
    "lr_clf = LogisticRegression(C=0.25, penalty='l2', solver='saga').fit(X_train, y_train)\n",
    "\n",
    "predicted = lr_clf.predict(X_test)\n",
    "print(predicted[0:10])\n",
    "y_test[0:10]"
   ]
  },
  {
   "cell_type": "code",
   "execution_count": 44,
   "id": "f1834a1c",
   "metadata": {},
   "outputs": [
    {
     "name": "stdout",
     "output_type": "stream",
     "text": [
      "labels:  [0, 1]\n",
      "precision:  [0.82147651 0.81755196]\n",
      "recall:  [0.79480519 0.84185493]\n",
      "f-score:  [0.80792079 0.82952548]\n",
      "support:  [770 841]\n",
      "              precision    recall  f1-score   support\n",
      "\n",
      "           0       0.82      0.79      0.81       770\n",
      "           1       0.82      0.84      0.83       841\n",
      "\n",
      "    accuracy                           0.82      1611\n",
      "   macro avg       0.82      0.82      0.82      1611\n",
      "weighted avg       0.82      0.82      0.82      1611\n",
      "\n"
     ]
    }
   ],
   "source": [
    "from sklearn.metrics import precision_recall_fscore_support\n",
    "from sklearn.metrics import classification_report\n",
    "\n",
    "labels = sorted(df['encoded label'].unique())\n",
    "precision, recall, fscore, support = precision_recall_fscore_support(y_test, predicted, labels=labels)\n",
    "print(\"labels: \", labels)\n",
    "print(\"precision: \", precision)\n",
    "print(\"recall: \", recall)\n",
    "print(\"f-score: \", fscore)\n",
    "print(\"support: \", support)\n",
    "\n",
    "print(classification_report(y_test, predicted))"
   ]
  },
  {
   "cell_type": "markdown",
   "id": "459f2140",
   "metadata": {},
   "source": [
    "### Confusion Matrix"
   ]
  },
  {
   "cell_type": "code",
   "execution_count": 33,
   "id": "9a4af033",
   "metadata": {},
   "outputs": [
    {
     "data": {
      "text/plain": [
       "Text(0.5, 1, 'Confusion Matrix')"
      ]
     },
     "execution_count": 33,
     "metadata": {},
     "output_type": "execute_result"
    },
    {
     "data": {
      "image/png": "[encoded data removed]",
      "text/plain": [
       "<Figure size 720x576 with 2 Axes>"
      ]
     },
     "metadata": {
      "needs_background": "light"
     },
     "output_type": "display_data"
    }
   ],
   "source": [
    "import numpy as np\n",
    "import matplotlib.pyplot as plt\n",
    "from sklearn.metrics import confusion_matrix\n",
    "import seaborn as sns\n",
    "\n",
    "conf_mat = confusion_matrix(y_test, predicted)\n",
    "categories = ['Negative', 'Positive']\n",
    "group_names = ['True Negative', 'False Positive', 'False Negative', 'True Positive']\n",
    "group_percentages = ['{0:.2%}'.format(value) for value in conf_mat.flatten()/np.sum(conf_mat)]\n",
    "labs = [f'{v1}\\n{v2}' for v1, v2 in zip(group_names, group_percentages)]\n",
    "labs = np.asarray(labs).reshape(2, 2)\n",
    "plt.figure(figsize=(10,8))\n",
    "ax = sns.heatmap(conf_mat, annot = labs, cmap = 'Blues', fmt = '', xticklabels = categories, yticklabels = categories)\n",
    "bottom, top = ax.get_ylim()\n",
    "ax.set_ylim(bottom+0.5, top-0.5)\n",
    "plt.xlabel(\"Predicted values\", fontdict = {'size':14}, labelpad = 10)\n",
    "plt.ylabel(\"Actual values\", fontdict = {'size':14}, labelpad = 10)\n",
    "plt.title(\"Confusion Matrix\", fontdict = {'size':18}, pad = 20)"
   ]
  },
  {
   "cell_type": "code",
   "execution_count": 34,
   "id": "8d3e27fd",
   "metadata": {},
   "outputs": [
    {
     "name": "stdout",
     "output_type": "stream",
     "text": [
      "[[618 152]\n",
      " [159 682]]\n"
     ]
    }
   ],
   "source": [
    "print(confusion_matrix(y_test, predicted))"
   ]
  },
  {
   "cell_type": "markdown",
   "id": "5041ea2d",
   "metadata": {},
   "source": [
    "### AUC Plot"
   ]
  },
  {
   "cell_type": "code",
   "execution_count": 35,
   "id": "f2979372",
   "metadata": {},
   "outputs": [
    {
     "name": "stdout",
     "output_type": "stream",
     "text": [
      "AUC: 88.517844%\n"
     ]
    }
   ],
   "source": [
    "# AUC\n",
    "\n",
    "from sklearn.metrics import roc_curve, auc,precision_recall_curve\n",
    "import numpy as np\n",
    "\n",
    "pred_prob = lr_clf.predict_proba(X_test)\n",
    "labels\n",
    "pred_prob[0:3]\n",
    "y_test[0:3]\n",
    "\n",
    "binary_y = np.where(y_test, 1, 0)\n",
    "y_pred = pred_prob[:,1]\n",
    "\n",
    "fpr, tpr, thresholds = roc_curve(binary_y, y_pred, pos_label = 1)\n",
    "\n",
    "print(\"AUC: {:2%}\".format(auc(fpr, tpr)))"
   ]
  },
  {
   "cell_type": "code",
   "execution_count": 36,
   "id": "d65ce32c",
   "metadata": {},
   "outputs": [
    {
     "data": {
      "image/png": "[encoded data removed]",
      "text/plain": [
       "<Figure size 432x288 with 1 Axes>"
      ]
     },
     "metadata": {
      "needs_background": "light"
     },
     "output_type": "display_data"
    }
   ],
   "source": [
    "from matplotlib import pyplot as plt\n",
    "plt.figure();\n",
    "plt.plot(fpr, tpr, color='darkorange', lw=2);\n",
    "plt.plot([0, 1], [0, 1], color='navy', lw=2, linestyle='--');\n",
    "plt.xlim([0.0, 1.0]);\n",
    "plt.ylim([0.0, 1.05]);\n",
    "plt.xlabel('False Positive Rate');\n",
    "plt.ylabel('True Positive Rate');\n",
    "plt.title('AUC of Logistic Regression Model');\n",
    "plt.show();"
   ]
  },
  {
   "cell_type": "markdown",
   "id": "1fc60cae",
   "metadata": {},
   "source": [
    "### Precision-Recall Plot"
   ]
  },
  {
   "cell_type": "code",
   "execution_count": 37,
   "id": "01400952",
   "metadata": {},
   "outputs": [
    {
     "data": {
      "image/png": "[encoded data removed]",
      "text/plain": [
       "<Figure size 432x288 with 1 Axes>"
      ]
     },
     "metadata": {
      "needs_background": "light"
     },
     "output_type": "display_data"
    },
    {
     "name": "stdout",
     "output_type": "stream",
     "text": [
      "Average Precision: 85.94%\n"
     ]
    }
   ],
   "source": [
    "# precision recall curve\n",
    "\n",
    "precision, recall, thresholds = precision_recall_curve(binary_y, y_pred, pos_label=1)\n",
    "\n",
    "plt.figure();\n",
    "plt.plot(recall, precision, color='darkorange', lw=2);\n",
    "plt.xlim([0.0, 1.0]);\n",
    "plt.ylim([0.0, 1.05]);\n",
    "plt.xlabel('Recall');\n",
    "plt.ylabel('Precision');\n",
    "plt.title('Precision_Recall_Curve of Logistic Regression Model');\n",
    "plt.show();\n",
    "\n",
    "print(\"Average Precision: {:.2%}\".format(auc(recall, precision)))"
   ]
  },
  {
   "cell_type": "code",
   "execution_count": null,
   "id": "032fce99",
   "metadata": {},
   "outputs": [],
   "source": []
  }
 ],
 "metadata": {
  "kernelspec": {
   "display_name": "Python 3 (ipykernel)",
   "language": "python",
   "name": "python3"
  },
  "language_info": {
   "codemirror_mode": {
    "name": "ipython",
    "version": 3
   },
   "file_extension": ".py",
   "mimetype": "text/x-python",
   "name": "python",
   "nbconvert_exporter": "python",
   "pygments_lexer": "ipython3",
   "version": "3.7.4"
  }
 },
 "nbformat": 4,
 "nbformat_minor": 5
}
